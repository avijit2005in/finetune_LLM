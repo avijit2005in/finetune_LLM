{
 "cells": [
  {
   "cell_type": "code",
   "execution_count": 1,
   "metadata": {
    "id": "lGSaUeWJ7Zfz"
   },
   "outputs": [],
   "source": [
    "import pandas as pd\n",
    "import os\n",
    "import numpy as np"
   ]
  },
  {
   "cell_type": "code",
   "execution_count": 2,
   "metadata": {
    "id": "tXn-m4Qi7cjd"
   },
   "outputs": [
    {
     "data": {
      "text/plain": [
       "'/home/jupyter/finetune_LLM'"
      ]
     },
     "execution_count": 2,
     "metadata": {},
     "output_type": "execute_result"
    }
   ],
   "source": [
    "os.getcwd()"
   ]
  },
  {
   "cell_type": "code",
   "execution_count": 3,
   "metadata": {
    "id": "ZcSBrcG27fG2"
   },
   "outputs": [],
   "source": [
    "#os.environ[\"CUDA_VISIBLE_DEVICES\"] = \"0\"\n",
    "import torch"
   ]
  },
  {
   "cell_type": "code",
   "execution_count": 4,
   "metadata": {
    "id": "3wCxGbex7hs0"
   },
   "outputs": [],
   "source": [
    "classified_krishna_df = pd.read_csv('/home/jupyter/finetune_LLM/Data/train/processed_chunked_files_llm_finetuining_krishna.csv')\n",
    "classified_sandhya_df = pd.read_csv('/home/jupyter/finetune_LLM/Data/train/processed_chunked_files_llm_finetuining_sandhya.csv')\n"
   ]
  },
  {
   "cell_type": "code",
   "execution_count": 5,
   "metadata": {
    "id": "KK-1sSLf7nhH"
   },
   "outputs": [
    {
     "data": {
      "text/html": [
       "<div>\n",
       "<style scoped>\n",
       "    .dataframe tbody tr th:only-of-type {\n",
       "        vertical-align: middle;\n",
       "    }\n",
       "\n",
       "    .dataframe tbody tr th {\n",
       "        vertical-align: top;\n",
       "    }\n",
       "\n",
       "    .dataframe thead th {\n",
       "        text-align: right;\n",
       "    }\n",
       "</style>\n",
       "<table border=\"1\" class=\"dataframe\">\n",
       "  <thead>\n",
       "    <tr style=\"text-align: right;\">\n",
       "      <th></th>\n",
       "      <th>filename</th>\n",
       "      <th>notes</th>\n",
       "      <th>classified</th>\n",
       "    </tr>\n",
       "  </thead>\n",
       "  <tbody>\n",
       "    <tr>\n",
       "      <th>0</th>\n",
       "      <td>Notes_text_6768_chunk_2.txt</td>\n",
       "      <td>WT- 64.1 KG, P-88/MIN\\nWhole body pet scan 21/...</td>\n",
       "      <td>{'vitals': ['WT- 64.1 KG, P-88/MIN', 'WT- 65.8...</td>\n",
       "    </tr>\n",
       "    <tr>\n",
       "      <th>1</th>\n",
       "      <td>Notes_text_6789_chunk_3.txt</td>\n",
       "      <td>On 19.3.2022, Under Sedation I&amp;D site opened u...</td>\n",
       "      <td>{'past_history': ['On 19.3.2022, Under Sedatio...</td>\n",
       "    </tr>\n",
       "    <tr>\n",
       "      <th>2</th>\n",
       "      <td>Notes_text_6711_chunk_1.txt</td>\n",
       "      <td>MBC\\nPOST MULTIPLE LINES OF TREATMENT\\nON FULV...</td>\n",
       "      <td>{'diagnosis': ['MBC'], 'past_history': ['POST ...</td>\n",
       "    </tr>\n",
       "    <tr>\n",
       "      <th>3</th>\n",
       "      <td>Notes_text_6795_chunk_2.txt</td>\n",
       "      <td>?RADIOTHERAPY INDUCED CYTOPENIA\\nCBC,PS,LDH EV...</td>\n",
       "      <td>{'observation_examinations': ['?RADIOTHERAPY I...</td>\n",
       "    </tr>\n",
       "    <tr>\n",
       "      <th>4</th>\n",
       "      <td>Notes_text_6718_chunk_2.txt</td>\n",
       "      <td>Post 3 cycles PETCT W/B(4/3/23)-Uterus is not ...</td>\n",
       "      <td>{'investigation_report': ['Post 3 cycles PETCT...</td>\n",
       "    </tr>\n",
       "    <tr>\n",
       "      <th>...</th>\n",
       "      <td>...</td>\n",
       "      <td>...</td>\n",
       "      <td>...</td>\n",
       "    </tr>\n",
       "    <tr>\n",
       "      <th>348</th>\n",
       "      <td>Notes_text_6741_chunk_3.txt</td>\n",
       "      <td>MRI NECK 16/12/2022: 7 X 9 mm LESION IN LEFT S...</td>\n",
       "      <td>{'investigation_report': ['MRI NECK 16/12/2022...</td>\n",
       "    </tr>\n",
       "    <tr>\n",
       "      <th>349</th>\n",
       "      <td>Notes_text_6787_chunk_1.txt</td>\n",
       "      <td>PROXY\\nRECURRENT SCC ORAL CAVITY\\nKCO Ca Hard ...</td>\n",
       "      <td>{'additional_information': ['PROXY', 'PROXY VI...</td>\n",
       "    </tr>\n",
       "    <tr>\n",
       "      <th>350</th>\n",
       "      <td>Notes_text_6703_chunk_2.txt</td>\n",
       "      <td>FOLLOW UP ON 22.11.21 WITH REPORTS\\nPatient is...</td>\n",
       "      <td>{'instructions_advice': ['FOLLOW UP ON 22.11.2...</td>\n",
       "    </tr>\n",
       "    <tr>\n",
       "      <th>351</th>\n",
       "      <td>Notes_text_6807_chunk_1.txt</td>\n",
       "      <td>MULTIPLE MYELOMA\\nPOST ASCT (16/11/2017)\\nBORV...</td>\n",
       "      <td>{'diagnosis': ['MULTIPLE MYELOMA', 'IMP-', 'HE...</td>\n",
       "    </tr>\n",
       "    <tr>\n",
       "      <th>352</th>\n",
       "      <td>Notes_text_6773_chunk_2.txt</td>\n",
       "      <td>Send for day care / Inform SOS.\\nMonitor vital...</td>\n",
       "      <td>{'instructions_advice': ['Send for day care / ...</td>\n",
       "    </tr>\n",
       "  </tbody>\n",
       "</table>\n",
       "<p>353 rows × 3 columns</p>\n",
       "</div>"
      ],
      "text/plain": [
       "                        filename  \\\n",
       "0    Notes_text_6768_chunk_2.txt   \n",
       "1    Notes_text_6789_chunk_3.txt   \n",
       "2    Notes_text_6711_chunk_1.txt   \n",
       "3    Notes_text_6795_chunk_2.txt   \n",
       "4    Notes_text_6718_chunk_2.txt   \n",
       "..                           ...   \n",
       "348  Notes_text_6741_chunk_3.txt   \n",
       "349  Notes_text_6787_chunk_1.txt   \n",
       "350  Notes_text_6703_chunk_2.txt   \n",
       "351  Notes_text_6807_chunk_1.txt   \n",
       "352  Notes_text_6773_chunk_2.txt   \n",
       "\n",
       "                                                 notes  \\\n",
       "0    WT- 64.1 KG, P-88/MIN\\nWhole body pet scan 21/...   \n",
       "1    On 19.3.2022, Under Sedation I&D site opened u...   \n",
       "2    MBC\\nPOST MULTIPLE LINES OF TREATMENT\\nON FULV...   \n",
       "3    ?RADIOTHERAPY INDUCED CYTOPENIA\\nCBC,PS,LDH EV...   \n",
       "4    Post 3 cycles PETCT W/B(4/3/23)-Uterus is not ...   \n",
       "..                                                 ...   \n",
       "348  MRI NECK 16/12/2022: 7 X 9 mm LESION IN LEFT S...   \n",
       "349  PROXY\\nRECURRENT SCC ORAL CAVITY\\nKCO Ca Hard ...   \n",
       "350  FOLLOW UP ON 22.11.21 WITH REPORTS\\nPatient is...   \n",
       "351  MULTIPLE MYELOMA\\nPOST ASCT (16/11/2017)\\nBORV...   \n",
       "352  Send for day care / Inform SOS.\\nMonitor vital...   \n",
       "\n",
       "                                            classified  \n",
       "0    {'vitals': ['WT- 64.1 KG, P-88/MIN', 'WT- 65.8...  \n",
       "1    {'past_history': ['On 19.3.2022, Under Sedatio...  \n",
       "2    {'diagnosis': ['MBC'], 'past_history': ['POST ...  \n",
       "3    {'observation_examinations': ['?RADIOTHERAPY I...  \n",
       "4    {'investigation_report': ['Post 3 cycles PETCT...  \n",
       "..                                                 ...  \n",
       "348  {'investigation_report': ['MRI NECK 16/12/2022...  \n",
       "349  {'additional_information': ['PROXY', 'PROXY VI...  \n",
       "350  {'instructions_advice': ['FOLLOW UP ON 22.11.2...  \n",
       "351  {'diagnosis': ['MULTIPLE MYELOMA', 'IMP-', 'HE...  \n",
       "352  {'instructions_advice': ['Send for day care / ...  \n",
       "\n",
       "[353 rows x 3 columns]"
      ]
     },
     "execution_count": 5,
     "metadata": {},
     "output_type": "execute_result"
    }
   ],
   "source": [
    "classified_krishna_df"
   ]
  },
  {
   "cell_type": "code",
   "execution_count": 6,
   "metadata": {
    "id": "NF69ed3J7sF0"
   },
   "outputs": [],
   "source": [
    "# Concatenating the DataFrames row-wise\n",
    "classified_df = pd.concat([classified_sandhya_df, classified_krishna_df], axis=0, ignore_index=True)"
   ]
  },
  {
   "cell_type": "code",
   "execution_count": 7,
   "metadata": {
    "id": "dbpWN0Yx7vRr"
   },
   "outputs": [],
   "source": [
    "classified_df['notes_character_count'] = classified_df['notes'].str.len()"
   ]
  },
  {
   "cell_type": "code",
   "execution_count": 8,
   "metadata": {
    "id": "BrpPgu-A7v39"
   },
   "outputs": [
    {
     "name": "stderr",
     "output_type": "stream",
     "text": [
      "/opt/conda/envs/python39/lib/python3.10/site-packages/tqdm/auto.py:21: TqdmWarning: IProgress not found. Please update jupyter and ipywidgets. See https://ipywidgets.readthedocs.io/en/stable/user_install.html\n",
      "  from .autonotebook import tqdm as notebook_tqdm\n"
     ]
    }
   ],
   "source": [
    "import torch\n",
    "from transformers import AutoTokenizer, AutoModelForCausalLM, BitsAndBytesConfig\n",
    "\n",
    "base_model_id = \"BioMistral/BioMistral-7B\"\n",
    "tokenizer = AutoTokenizer.from_pretrained(\n",
    "    base_model_id,\n",
    "    add_eos_token=True,\n",
    "    add_bos_token=True,\n",
    ")\n"
   ]
  },
  {
   "cell_type": "code",
   "execution_count": 9,
   "metadata": {
    "id": "aSW3qXmP7xog"
   },
   "outputs": [],
   "source": [
    "classified_df['token_count_notes'] = classified_df['notes'].apply(lambda x: len(tokenizer.encode(x)))\n",
    "classified_df['token_count_classified'] = classified_df['classified'].apply(lambda x: len(tokenizer.encode(x)))"
   ]
  },
  {
   "cell_type": "code",
   "execution_count": 10,
   "metadata": {
    "id": "GbZ6_JTj7zX2"
   },
   "outputs": [],
   "source": [
    "classified_df['num_split_notes'] = np.ceil(classified_df['token_count_notes']/1024).astype(int)"
   ]
  },
  {
   "cell_type": "code",
   "execution_count": 11,
   "metadata": {
    "id": "2o4MlJ6u7302"
   },
   "outputs": [
    {
     "name": "stdout",
     "output_type": "stream",
     "text": [
      "135    CA (L) BREAST\\n(L) MRM 17/06/2022\\nER -/PR 10%...\n",
      "Name: notes, dtype: object\n"
     ]
    }
   ],
   "source": [
    "print(classified_df[classified_df[\"filename\"]==\"Notes_text_7202_chunk_1.txt\"][\"notes\"])"
   ]
  },
  {
   "cell_type": "code",
   "execution_count": 12,
   "metadata": {
    "id": "dIVqNDtm76QU"
   },
   "outputs": [
    {
     "data": {
      "text/plain": [
       "595"
      ]
     },
     "execution_count": 12,
     "metadata": {},
     "output_type": "execute_result"
    }
   ],
   "source": [
    "len(classified_df)"
   ]
  },
  {
   "cell_type": "code",
   "execution_count": 13,
   "metadata": {
    "id": "QXS1oVVG76zZ"
   },
   "outputs": [
    {
     "data": {
      "image/png": "[encoded data removed]",
      "text/plain": [
       "<Figure size 1000x600 with 1 Axes>"
      ]
     },
     "metadata": {},
     "output_type": "display_data"
    }
   ],
   "source": [
    "import seaborn as sns\n",
    "import matplotlib.pyplot as plt\n",
    "\n",
    "# Plotting the distribution using seaborn\n",
    "plt.figure(figsize=(10, 6))\n",
    "sns.histplot(classified_df['token_count_notes'], bins=10, kde=True)\n",
    "plt.title('Distribution of Token Count')\n",
    "plt.xlabel('Token Count')\n",
    "plt.ylabel('Frequency')\n",
    "plt.grid(True)\n",
    "plt.show()"
   ]
  },
  {
   "cell_type": "code",
   "execution_count": 14,
   "metadata": {
    "id": "dq4z2q_E787e"
   },
   "outputs": [],
   "source": [
    "from accelerate import FullyShardedDataParallelPlugin, Accelerator\n",
    "from torch.distributed.fsdp.fully_sharded_data_parallel import FullOptimStateDictConfig, FullStateDictConfig\n",
    "\n",
    "fsdp_plugin = FullyShardedDataParallelPlugin(\n",
    "    state_dict_config=FullStateDictConfig(offload_to_cpu=True, rank0_only=False),\n",
    "    optim_state_dict_config=FullOptimStateDictConfig(offload_to_cpu=True, rank0_only=False),\n",
    ")\n",
    "\n",
    "accelerator = Accelerator(fsdp_plugin=fsdp_plugin)"
   ]
  },
  {
   "cell_type": "code",
   "execution_count": 15,
   "metadata": {
    "id": "UiGDmFIb7_Gc"
   },
   "outputs": [],
   "source": [
    "from datasets import Dataset\n",
    "dataset = Dataset.from_pandas(classified_df)"
   ]
  },
  {
   "cell_type": "code",
   "execution_count": 16,
   "metadata": {
    "id": "xHW74D3y8BHs"
   },
   "outputs": [
    {
     "data": {
      "text/plain": [
       "Dataset({\n",
       "    features: ['filename', 'notes', 'classified', 'notes_character_count', 'token_count_notes', 'token_count_classified', 'num_split_notes'],\n",
       "    num_rows: 595\n",
       "})"
      ]
     },
     "execution_count": 16,
     "metadata": {},
     "output_type": "execute_result"
    }
   ],
   "source": [
    "dataset"
   ]
  },
  {
   "cell_type": "code",
   "execution_count": 17,
   "metadata": {
    "id": "8IBrZuDl8C4a"
   },
   "outputs": [],
   "source": [
    "dataset = dataset.train_test_split(0.1)"
   ]
  },
  {
   "cell_type": "code",
   "execution_count": 18,
   "metadata": {
    "id": "ozrVrzF08EtC"
   },
   "outputs": [
    {
     "data": {
      "text/plain": [
       "DatasetDict({\n",
       "    train: Dataset({\n",
       "        features: ['filename', 'notes', 'classified', 'notes_character_count', 'token_count_notes', 'token_count_classified', 'num_split_notes'],\n",
       "        num_rows: 535\n",
       "    })\n",
       "    test: Dataset({\n",
       "        features: ['filename', 'notes', 'classified', 'notes_character_count', 'token_count_notes', 'token_count_classified', 'num_split_notes'],\n",
       "        num_rows: 60\n",
       "    })\n",
       "})"
      ]
     },
     "execution_count": 18,
     "metadata": {},
     "output_type": "execute_result"
    }
   ],
   "source": [
    "dataset"
   ]
  },
  {
   "cell_type": "code",
   "execution_count": 19,
   "metadata": {
    "id": "1z4OOjlc8GjM"
   },
   "outputs": [],
   "source": [
    "def tokenize(prompt):\n",
    "    result = tokenizer(prompt)\n",
    "    result[\"labels\"] = result[\"input_ids\"].copy()\n",
    "    return result"
   ]
  },
  {
   "cell_type": "code",
   "execution_count": 20,
   "metadata": {
    "id": "S8NDa8UD8IzV"
   },
   "outputs": [],
   "source": [
    "def generate_and_tokenize_prompt(data_point):\n",
    "    full_prompt =f\"\"\"Classify the notes into below categories:\n",
    "                   'allergies',\n",
    "                   'chief_complaints',\n",
    "                   'diagnosis',\n",
    "                   'family_history',\n",
    "                   'history',\n",
    "                   'instructions_advice',\n",
    "                   'investigation_report',\n",
    "                   'investigations',\n",
    "                   'medicine_prescription',\n",
    "                   'observations_examinations',\n",
    "                   'patient_willingness_concent',\n",
    "                   'personal_history',\n",
    "                   'procedure_report',\n",
    "                   'referral',\n",
    "                   'social_history',\n",
    "                   'tolerance',\n",
    "                   'treatment_plan',\n",
    "                   'unclassified',\n",
    "                   'vitals'\n",
    "                    Output the classified data into json format\n",
    "\n",
    "\n",
    "### notes:\n",
    "{data_point[\"notes\"]}\n",
    "\n",
    "### Classified:\n",
    "{data_point[\"classified\"]}\n",
    "\"\"\"\n",
    "    return tokenize(full_prompt)"
   ]
  },
  {
   "cell_type": "code",
   "execution_count": 21,
   "metadata": {
    "id": "6Z5syuOK8Mfr"
   },
   "outputs": [],
   "source": [
    "train_dataset = dataset['train']\n",
    "test_dataset = dataset['test']"
   ]
  },
  {
   "cell_type": "code",
   "execution_count": 22,
   "metadata": {
    "id": "Dh7LA9Z28PAC"
   },
   "outputs": [
    {
     "name": "stderr",
     "output_type": "stream",
     "text": [
      "Map: 100%|██████████| 535/535 [00:02<00:00, 249.91 examples/s]\n",
      "Map: 100%|██████████| 60/60 [00:00<00:00, 260.78 examples/s]\n"
     ]
    }
   ],
   "source": [
    "tokenized_train_dataset = train_dataset.map(generate_and_tokenize_prompt)\n",
    "tokenized_val_dataset = test_dataset.map(generate_and_tokenize_prompt)"
   ]
  },
  {
   "cell_type": "code",
   "execution_count": 23,
   "metadata": {
    "id": "dzPoyFih8RhY"
   },
   "outputs": [
    {
     "name": "stdout",
     "output_type": "stream",
     "text": [
      "<s> Classify the notes into below categories:\n",
      "                   'allergies',\n",
      "                   'chief_complaints',\n",
      "                   'diagnosis',\n",
      "                   'family_history',\n",
      "                   'history',\n",
      "                   'instructions_advice',\n",
      "                   'investigation_report',\n",
      "                   'investigations',\n",
      "                   'medicine_prescription',\n",
      "                   'observations_examinations',\n",
      "                   'patient_willingness_concent',\n",
      "                   'personal_history',\n",
      "                   'procedure_report',\n",
      "                   'referral',\n",
      "                   'social_history',\n",
      "                   'tolerance',\n",
      "                   'treatment_plan',\n",
      "                   'unclassified',\n",
      "                   'vitals'\n",
      "                    Output the classified data into json format\n",
      "\n",
      "\n",
      "### notes:\n",
      "k/c/o HTN\n",
      "NSCLC(EGFR alk ros neative from BLK)\n",
      "6 X Pem carb - Pem maintenance - aug 2019\n",
      "Developed anemia\n",
      "Discontinued Rx -\n",
      "NGS- not possible as pt doesnt have issue\n",
      "pet ct- mild incraese but overall stable disease. feb 2021\n",
      "- kept under observation\n",
      "- dec 2021- pet ct- pd\n",
      "- bx- no def evidence of malignancy - 2021\n",
      "did not follow up at rgci.\n",
      "H/O fracture both lower limbs in June 2022 ? traumatic\n",
      "last visit in Dec 21. Had gotten CT guided biopsy done then, did not collect reports, and lost to f/up.\n",
      "No treatment since ?September 2019. No records available. ?Attendants say has received a few chemo doses in 2020 also. ?Discharge summary from Neelkanth Multispeciality Hospital Haldwani dated 2.3.23 mentions 30 cycles of Pem Gem in past history - no records of the same\n",
      "NCCT head (28.2.23, outside) -Age related cerebral atrophy. Extracranial soft tissue swelling of scalp over Left parietal region is noted\n",
      "CECT thorax (2.3.23) - Ill defined heterogenously enhancing soft tissue lesion noted in right hilar and perihilar region extending into and blocking right main bronchus (approx 56 x 54 mm) - ?neoplastic. Distal collapsed right lung. Multiple small nodular soft tissue lesions in left lung - ?metastasis. Few mediastinal lymph nodes. Moderate right pleural effusion noted with collapse of underlying lung.\n",
      "Rt side pleural fluid (3.3.23, outside) - Exudative, lymphocyticic, ADA 16. Negative for malignant cells\n",
      "IPC inserted on 10.3.23. Pleural fluid cytology positice for malignant cells\n",
      "MRI brain (11.03.23): As compared to previous MRI dated 15th December 2021, No significant change is seen\n",
      "PET CT (10.03.23): This scan was compared with patient's earlier study of Dec. 21. Right lung lesion shows increase in size &extent. Right lung nodules show increase in extent, inseparable from peribronchial nodular stranding. Left lung nodules were not appreciable earlier. Few lymphnodes show mild regression. Right pleural effusion has increased. Sacral lesion shows increase in extent and metabolic activity\n",
      "Liquid biopsy NGS sent, report\n",
      "- started on paclitaxel\n",
      "- recieved 3 cycles of rx\n",
      "- pl fluid- 2 litre tapped on 29 june 2023\n",
      "- pet ct (29.6.23) - compared with earlier study of March-23, Right lung lesion shows decrease in extentwith persistent metabolic activity. Left lung nodules are unchanged. Lymphnodes show increase in metabolicactivity. Right pleural effusion has increased with complete collapse of right lung parenchyma. Bony lesionsshow increase in number and metabolic activity.\n",
      "- started on gem carb weekly\n",
      "12 july 2023\n",
      "- no sp complaints\n",
      "- feels better\n",
      "- to give cycle1 day 8 under day care .\n",
      "-Grastim (Vial) 300mcg S/C once a day x 2 days (Tab Crocin 1 tab - hr before) from 14.07.23.\n",
      "-Tab Pan 40 once a day x 7 days then SOS (BBF)\n",
      "-Tab Perinorm (10mg) 1 tab SOS (for vomiting)\n",
      "-Tab Emeset MD 4mg SOS (In case of vomiting)\n",
      "-Tab Shelcal 500mg twice a day x 7 days\n",
      "-Syp Codistar 2 tsf thrice a day x 7 days\n",
      "-Plenty of oral Fluids\n",
      "\n",
      "### Classified:\n",
      "{'past_history': ['k/c/o HTN', '6 X Pem carb - Pem maintenance - aug 2019', 'Developed anemia', 'Discontinued Rx -', 'H/O fracture both lower limbs in June 2022 ? traumatic'], 'diagnosis': ['NSCLC(EGFR alk ros neative from BLK)'], 'observation_examinations': ['NGS- not possible as pt doesnt have issue', 'No treatment since ?September 2019. No records available. ?Attendants say has received a few chemo doses in 2020 also. ?Discharge summary from Neelkanth Multispeciality Hospital Haldwani dated 2.3.23 mentions 30 cycles of Pem Gem in past history - no records of the same', 'Liquid biopsy NGS sent, report', '- started on paclitaxel', '- recieved 3 cycles of rx', '- pl fluid- 2 litre tapped on 29 june 2023', '- started on gem carb weekly', '12 july 2023', '- no sp complaints', '- feels better'], 'investigation_report': ['pet ct- mild incraese but overall stable disease. feb 2021', '- kept under observation', '- dec 2021- pet ct- pd', '- bx- no def evidence of malignancy - 2021', 'NCCT head (28.2.23, outside) -Age related cerebral atrophy. Extracranial soft tissue swelling of scalp over Left parietal region is noted', 'CECT thorax (2.3.23) - Ill defined heterogenously enhancing soft tissue lesion noted in right hilar and perihilar region extending into and blocking right main bronchus (approx 56 x 54 mm) - ?neoplastic. Distal collapsed right lung. Multiple small nodular soft tissue lesions in left lung - ?metastasis. Few mediastinal lymph nodes. Moderate right pleural effusion noted with collapse of underlying lung.', 'Rt side pleural fluid (3.3.23, outside) - Exudative, lymphocyticic, ADA 16. Negative for malignant cells', 'IPC inserted on 10.3.23. Pleural fluid cytology positice for malignant cells', 'MRI brain (11.03.23): As compared to previous MRI dated 15th December 2021, No significant change is seen', \"PET CT (10.03.23): This scan was compared with patient's earlier study of Dec. 21. Right lung lesion shows increase in size &extent. Right lung nodules show increase in extent, inseparable from peribronchial nodular stranding. Left lung nodules were not appreciable earlier. Few lymphnodes show mild regression. Right pleural effusion has increased. Sacral lesion shows increase in extent and metabolic activity\", '- pet ct (29.6.23) - compared with earlier study of March-23, Right lung lesion shows decrease in extentwith persistent metabolic activity. Left lung nodules are unchanged. Lymphnodes show increase in metabolicactivity. Right pleural effusion has increased with complete collapse of right lung parenchyma. Bony lesionsshow increase in number and metabolic activity.'], 'patient_willingness_consent': ['did not follow up at rgci.', 'last visit in Dec 21. Had gotten CT guided biopsy done then, did not collect reports, and lost to f/up.'], 'instructions_advice': ['- to give cycle1 day 8 under day care .', '-Plenty of oral Fluids'], 'medicine_prescription': ['-Grastim (Vial) 300mcg S/C once a day x 2 days (Tab Crocin 1 tab - hr before) from 14.07.23.', '-Tab Pan 40 once a day x 7 days then SOS (BBF)', '-Tab Perinorm (10mg) 1 tab SOS (for vomiting)', '-Tab Emeset MD 4mg SOS (In case of vomiting)', '-Tab Shelcal 500mg twice a day x 7 days', '-Syp Codistar 2 tsf thrice a day x 7 days']}\n",
      "</s>\n"
     ]
    }
   ],
   "source": [
    "untokenized_text = tokenizer.decode(tokenized_train_dataset[1]['input_ids'])\n",
    "print(untokenized_text)"
   ]
  },
  {
   "cell_type": "code",
   "execution_count": 24,
   "metadata": {
    "id": "ZVKOr3R28TdT"
   },
   "outputs": [
    {
     "name": "stdout",
     "output_type": "stream",
     "text": [
      "595\n"
     ]
    },
    {
     "data": {
      "image/png": "[encoded data removed]",
      "text/plain": [
       "<Figure size 1000x600 with 1 Axes>"
      ]
     },
     "metadata": {},
     "output_type": "display_data"
    }
   ],
   "source": [
    "import matplotlib.pyplot as plt\n",
    "\n",
    "def plot_data_lengths(tokenized_train_dataset, tokenized_val_dataset):\n",
    "    lengths = [len(x['input_ids']) for x in tokenized_train_dataset]\n",
    "    lengths += [len(x['input_ids']) for x in tokenized_val_dataset]\n",
    "    print(len(lengths))\n",
    "\n",
    "    # Plotting the histogram\n",
    "    plt.figure(figsize=(10, 6))\n",
    "    plt.hist(lengths, bins=20, alpha=0.7, color='blue')\n",
    "    plt.xlabel('Length of input_ids')\n",
    "    plt.ylabel('Frequency')\n",
    "    plt.title('Distribution of Lengths of input_ids')\n",
    "    plt.show()\n",
    "\n",
    "plot_data_lengths(tokenized_train_dataset, tokenized_val_dataset)"
   ]
  },
  {
   "cell_type": "code",
   "execution_count": 25,
   "metadata": {
    "id": "o2kSpeyf8V9f"
   },
   "outputs": [],
   "source": [
    "max_length = 2048 #1024 #20000 # This was an appropriate max length for my dataset\n",
    "\n",
    "# redefine the tokenize function and tokenizer\n",
    "\n",
    "tokenizer = AutoTokenizer.from_pretrained(\n",
    "    base_model_id,\n",
    "    padding_side=\"left\",\n",
    "    add_eos_token=True,\n",
    "    add_bos_token=True,\n",
    ")\n",
    "tokenizer.pad_token = tokenizer.eos_token\n",
    "\n",
    "\n",
    "def tokenize(prompt):\n",
    "    result = tokenizer(\n",
    "        prompt,\n",
    "        truncation=True,\n",
    "        max_length=max_length,\n",
    "        padding=\"max_length\",\n",
    "    )\n",
    "    result[\"labels\"] = result[\"input_ids\"].copy()\n",
    "    return result"
   ]
  },
  {
   "cell_type": "code",
   "execution_count": 26,
   "metadata": {
    "id": "9iHLKpo18ZAj"
   },
   "outputs": [
    {
     "name": "stderr",
     "output_type": "stream",
     "text": [
      "Map: 100%|██████████| 535/535 [00:02<00:00, 228.68 examples/s]\n",
      "Map: 100%|██████████| 60/60 [00:00<00:00, 240.35 examples/s]\n"
     ]
    }
   ],
   "source": [
    "tokenized_train_dataset = train_dataset.map(generate_and_tokenize_prompt)\n",
    "tokenized_val_dataset = test_dataset.map(generate_and_tokenize_prompt)"
   ]
  },
  {
   "cell_type": "code",
   "execution_count": 27,
   "metadata": {
    "id": "JkwNm1Md8bI6"
   },
   "outputs": [
    {
     "name": "stdout",
     "output_type": "stream",
     "text": [
      "<s> Classify the notes into below categories:\n",
      "                   'allergies',\n",
      "                   'chief_complaints',\n",
      "                   'diagnosis',\n",
      "                   'family_history',\n",
      "                   'history',\n",
      "                   'instructions_advice',\n",
      "                   'investigation_report',\n",
      "                   'investigations',\n",
      "                   'medicine_prescription',\n",
      "                   'observations_examinations',\n",
      "                   'patient_willingness_concent',\n",
      "                   'personal_history',\n",
      "                   'procedure_report',\n",
      "                   'referral',\n",
      "                   'social_history',\n",
      "                   'tolerance',\n",
      "                   'treatment_plan',\n",
      "                   'unclassified',\n",
      "                   'vitals'\n",
      "                    Output the classified data into json format\n",
      "\n",
      "\n",
      "### notes:\n",
      "k/c/o HTN\n",
      "NSCLC(EGFR alk ros neative from BLK)\n",
      "6 X Pem carb - Pem maintenance - aug 2019\n",
      "Developed anemia\n",
      "Discontinued Rx -\n",
      "NGS- not possible as pt doesnt have issue\n",
      "pet ct- mild incraese but overall stable disease. feb 2021\n",
      "- kept under observation\n",
      "- dec 2021- pet ct- pd\n",
      "- bx- no def evidence of malignancy - 2021\n",
      "did not follow up at rgci.\n",
      "H/O fracture both lower limbs in June 2022 ? traumatic\n",
      "last visit in Dec 21. Had gotten CT guided biopsy done then, did not collect reports, and lost to f/up.\n",
      "No treatment since ?September 2019. No records available. ?Attendants say has received a few chemo doses in 2020 also. ?Discharge summary from Neelkanth Multispeciality Hospital Haldwani dated 2.3.23 mentions 30 cycles of Pem Gem in past history - no records of the same\n",
      "NCCT head (28.2.23, outside) -Age related cerebral atrophy. Extracranial soft tissue swelling of scalp over Left parietal region is noted\n",
      "CECT thorax (2.3.23) - Ill defined heterogenously enhancing soft tissue lesion noted in right hilar and perihilar region extending into and blocking right main bronchus (approx 56 x 54 mm) - ?neoplastic. Distal collapsed right lung. Multiple small nodular soft tissue lesions in left lung - ?metastasis. Few mediastinal lymph nodes. Moderate right pleural effusion noted with collapse of underlying lung.\n",
      "Rt side pleural fluid (3.3.23, outside) - Exudative, lymphocyticic, ADA 16. Negative for malignant cells\n",
      "IPC inserted on 10.3.23. Pleural fluid cytology positice for malignant cells\n",
      "MRI brain (11.03.23): As compared to previous MRI dated 15th December 2021, No significant change is seen\n",
      "PET CT (10.03.23): This scan was compared with patient's earlier study of Dec. 21. Right lung lesion shows increase in size &extent. Right lung nodules show increase in extent, inseparable from peribronchial nodular stranding. Left lung nodules were not appreciable earlier. Few lymphnodes show mild regression. Right pleural effusion has increased. Sacral lesion shows increase in extent and metabolic activity\n",
      "Liquid biopsy NGS sent, report\n",
      "- started on paclitaxel\n",
      "- recieved 3 cycles of rx\n",
      "- pl fluid- 2 litre tapped on 29 june 2023\n",
      "- pet ct (29.6.23) - compared with earlier study of March-23, Right lung lesion shows decrease in extentwith persistent metabolic activity. Left lung nodules are unchanged. Lymphnodes show increase in metabolicactivity. Right pleural effusion has increased with complete collapse of right lung parenchyma. Bony lesionsshow increase in number and metabolic activity.\n",
      "- started on gem carb weekly\n",
      "12 july 2023\n",
      "- no sp complaints\n",
      "- feels better\n",
      "- to give cycle1 day 8 under day care .\n",
      "-Grastim (Vial) 300mcg S/C once a day x 2 days (Tab Crocin 1 tab - hr before) from 14.07.23.\n",
      "-Tab Pan 40 once a day x 7 days then SOS (BBF)\n",
      "-Tab Perinorm (10mg) 1 tab SOS (for vomiting)\n",
      "-Tab Emeset MD 4mg SOS (In case of vomiting)\n",
      "-Tab Shelcal 500mg twice a day x 7 days\n",
      "-Syp Codistar 2 tsf thrice a day x 7 days\n",
      "-Plenty of oral Fluids\n",
      "\n",
      "### Classified:\n",
      "{'past_history': ['k/c/o HTN', '6 X Pem carb - Pem maintenance - aug 2019', 'Developed anemia', 'Discontinued Rx -', 'H/O fracture both lower limbs in June 2022 ? traumatic'], 'diagnosis': ['NSCLC(EGFR alk ros neative from BLK)'], 'observation_examinations': ['NGS- not possible as pt doesnt have issue', 'No treatment since ?September 2019. No records available. ?Attendants say has received a few chemo doses in 2020 also. ?Discharge summary from Neelkanth Multispeciality Hospital Haldwani dated 2.3.23 mentions 30 cycles of Pem Gem in past history - no records of the same', 'Liquid biopsy NGS sent, report', '- started on paclitaxel', '- recieved 3 cycles of rx', '- pl fluid- 2 litre tapped on 29 june 2023', '- started on gem carb weekly', '12 july 2023', '- no sp complaints', '- feels better'], 'investigation_report': ['pet ct- mild incraese but overall stable disease. feb 2021', '- kept under observation', '- dec 2021- pet ct- pd', '- bx- no def evidence of malignancy - 2021', 'NCCT head (28.2.23, outside) -Age related cerebral atrophy. Extracranial soft tissue swelling of scalp over Left parietal region is noted', 'CECT thorax (2.3.23) - Ill defined heterogenously enhancing soft tissue lesion noted in right hilar and perihilar region extending into and blocking right main bronchus (approx 56 x 54 mm) - ?neoplastic. Distal collapsed right lung. Multiple small nodular soft tissue lesions in left lung - ?metastasis. Few mediastinal lymph nodes. Moderate right pleural effusion noted with collapse of underlying lung.', 'Rt side pleural fluid (3.3.23, outside) - Exudative, lymphocyticic, ADA 16. Negative for malignant cells', 'IPC inserted on 10.3.23. Pleural fluid cytology positice for malignant cells', 'MRI brain (11.03.23): As compared to previous MRI dated 15th December 2021, No significant change is seen', \"PET CT (10.03.23): This scan was compared with patient's earlier study of Dec. 21. Right lung lesion shows increase in size &extent. Right lung nodules show increase in extent, inseparable from peribronchial nodular stranding. Left lung nodules were not appreciable earlier. Few lymphnodes show mild regression. Right pleural effusion has increased. Sacral lesion shows increase in extent and metabolic activity\", '- pet ct (29.6.23) - compared with earlier study of March-23, Right lung lesion shows decrease in extentwith persistent metabolic activity. Left lung nodules are unchanged. Lymphnodes show increase in metabolicactivity. Right pleural effusion has increased with complete collapse of right lung parenchyma. Bony lesionsshow increase in number and metabolic activity.'], 'patient_willingness_consent': ['did not follow up at rgci.', 'last visit in Dec 21. Had gotten CT guided biopsy done then, did not collect reports</s>\n"
     ]
    }
   ],
   "source": [
    "untokenized_text = tokenizer.decode(tokenized_train_dataset[1]['input_ids'])\n",
    "print(untokenized_text)"
   ]
  },
  {
   "cell_type": "code",
   "execution_count": 28,
   "metadata": {
    "id": "TvIc2Zs08c6q"
   },
   "outputs": [
    {
     "name": "stdout",
     "output_type": "stream",
     "text": [
      "595\n"
     ]
    },
    {
     "data": {
      "image/png": "[encoded data removed]",
      "text/plain": [
       "<Figure size 1000x600 with 1 Axes>"
      ]
     },
     "metadata": {},
     "output_type": "display_data"
    }
   ],
   "source": [
    "plot_data_lengths(tokenized_train_dataset, tokenized_val_dataset)"
   ]
  },
  {
   "cell_type": "code",
   "execution_count": 29,
   "metadata": {
    "id": "Nal8F2Kq8fOV"
   },
   "outputs": [
    {
     "name": "stdout",
     "output_type": "stream",
     "text": [
      "Notes: no other complaint\n",
      "Height(cm) 173 Weight(kg)87.4\n",
      "PR - 88/min\n",
      "Chest/ PA- Normal\n",
      "Oral Lesion - heeling\n",
      "Skin Exam - N\n",
      "HRCT- No Significant active parenchyal-or interstited\n",
      "To Start Vaccination\n",
      "To Start-CSA Taper\n",
      "Chimerism (Day + 100) VNTK\n",
      "BMA/MRD LP on 158/3/22\n",
      "Cycle 3 5 Aza From 15/3/22\n",
      "CSA 100mg BD\n",
      "Rest CST\n",
      "Vaccine as per protocol\n",
      "Seen by Dr.Rohan\n",
      "AML / Refractory-MRD + / MUD\n",
      "+ day 89\n",
      "Received 1st Cycle Azacytidine Maintenance - 18/1/22 x 3 days\n",
      "Co Level - 175mg/ml\n",
      "CMV - Neg. on + 84- (21/2/22)\n",
      "Graft-9.7/5620/109000-N 58, L 245, M9, E2\n",
      "No GVHD - Skin / Liver / Chest\n",
      "Height(cm) 173 Weight(kg)84.3\n",
      "Continue CSA Same Dose\n",
      "FUC of AML post renal transplant\n",
      "Had BK virus cystitis\n",
      "Was on alfuzosin, mirago and cystopan\n",
      "No urinary symptoms\n",
      "Creat: 0.6 mg%\n",
      "adv: continue cystopan\n",
      "-Stop alfoo, mirago\n",
      "post Transplant day + 68\n",
      "Chimerism-Day + 30 - 100 %\n",
      "Last BMA /Bx 18/1/22 - CMR\n",
      "MRD - Negative\n",
      "Recd Cycle 1 Maintenance Aza 18/1 to 20/1\n",
      "No GVHD\n",
      "Current No fresh Complaint\n",
      "c./o Dry cough Reduced then before\n",
      "No c/o Skin Rash/Jaundice/Dairrea/ Appetite Loss\n",
      "BP 126/76\n",
      "PR - 76/min\n",
      "Conventional erythema +\n",
      "Chest Occ.Left Infracep Imp Crepts\n",
      "P/A Soft No T/G/R Skin Exam -\n",
      "CMV-2/2/22- TND\n",
      "Urology Review\n",
      "Refer to Dr.Vidushi for Buccal Mucosa Bx\n",
      "R/v with Report\n",
      "+ day 77\n",
      "No f/c\n",
      "No GVHD-No Rashes-/ Loose Motions\n",
      "doing well\n",
      "Chest/CVS/PA - NAD\n",
      "BP 120/90\n",
      "CMV - Neg on 8/2/22\n",
      "Co Level-11/2/22\n",
      "Azacyditine-due from 15/2/22\n",
      "Ct Cyclosporine 110mg BD\n",
      "FLU Bu 3 Cy 14.5 x 2-PTCy - CSA\n",
      "NGS - MRD - awaited-MRD- Negative-(Flow)\n",
      "1st Azacytidine-18/1/22 onwards-Next due on 15/2/22\n",
      "Cyclosporine- 347\n",
      "Graft 10.5/8330/140000-N 63, L 21, M9, E5\n",
      "CMV - awaited\n",
      "GVHD - Nil No Oral LP-\n",
      "BP 130/90\n",
      "Height(cm) 173 Weight(kg)83.2\n",
      "Stop Voroconazole\n",
      "Increased CSA 110mg BD\n",
      "Discuss with Dr.Bhurani\n",
      "Eye Referal Dr Piyush\n",
      "To look for Oral Lesion Pregression\n",
      "Plan Biopsy\n",
      "\n",
      "Classified: {'observation_examinations': ['no other complaint', 'Chest/ PA- Normal', 'Oral Lesion - heeling', 'Skin Exam - N', 'No GVHD - Skin / Liver / Chest', 'No urinary symptoms', 'No GVHD', 'Current No fresh Complaint', 'No c/o Skin Rash/Jaundice/Dairrea/ Appetite Loss', 'Conventional erythema +', 'Chest Occ.Left Infracep Imp Crepts', 'P/A Soft No T/G/R Skin Exam -', 'No f/c', 'No GVHD-No Rashes-/ Loose Motions', 'doing well', 'Chest/CVS/PA - NAD', 'GVHD - Nil No Oral LP-'], 'vitals': ['Height(cm) 173 Weight(kg)87.4', 'PR - 88/min', 'Height(cm) 173 Weight(kg)84.3', 'BP 126/76', 'PR - 76/min', 'BP 120/90', 'BP 130/90', 'Height(cm) 173 Weight(kg)83.2'], 'investigation_report': ['HRCT- No Significant active parenchyal-or interstited', 'Co Level - 175mg/ml', 'CMV - Neg. on + 84- (21/2/22)', 'Graft-9.7/5620/109000-N 58, L 245, M9, E2', 'Creat: 0.6 mg%', 'Chimerism-Day + 30 - 100 %', 'Last BMA /Bx 18/1/22 - CMR', 'MRD - Negative', 'CMV-2/2/22- TND', 'CMV - Neg on 8/2/22', 'NGS - MRD - awaited-MRD- Negative-(Flow)', 'Cyclosporine- 347', 'Graft 10.5/8330/140000-N 63, L 21, M9, E5'], 'instructions_advice': ['To Start Vaccination', 'To Start-CSA Taper', 'Cycle 3 5 Aza From 15/3/22', 'Rest CST', 'Vaccine as per protocol', 'Continue CSA Same Dose', 'adv: continue cystopan', '-Stop alfoo, mirago', 'R/v with Report', 'Azacyditine-due from 15/2/22', 'Ct Cyclosporine 110mg BD', 'Stop Voroconazole', 'To look for Oral Lesion Pregression'], 'investigations': ['Chimerism (Day + 100) VNTK', 'BMA/MRD LP on 158/3/22', 'Co Level-11/2/22'], 'medicine_prescription': ['CSA 100mg BD', 'Increased CSA 110mg BD'], 'additional_information': ['Seen by Dr.Rohan', '+ day 89', 'post Transplant day + 68', '+ day 77', 'CMV - awaited', 'Discuss with Dr.Bhurani'], 'diagnosis': ['AML / Refractory-MRD + / MUD', 'FUC of AML post renal transplant'], 'past_history': ['Received 1st Cycle Azacytidine Maintenance - 18/1/22 x 3 days', 'Had BK virus cystitis', 'Was on alfuzosin, mirago and cystopan', 'Recd Cycle 1 Maintenance Aza 18/1 to 20/1', '1st Azacytidine-18/1/22 onwards-Next due on 15/2/22'], 'chief_complaints': ['c./o Dry cough Reduced then before'], 'referral': ['Urology Review', 'Refer to Dr.Vidushi for Buccal Mucosa Bx', 'Eye Referal Dr Piyush'], 'treatment_plan': ['FLU Bu 3 Cy 14.5 x 2-PTCy - CSA', 'Plan Biopsy']}\n",
      "\n"
     ]
    }
   ],
   "source": [
    "print(\"Notes: \" + test_dataset[2]['notes'] + \"\\n\")\n",
    "print(\"Classified: \" + test_dataset[2]['classified'] + \"\\n\")"
   ]
  },
  {
   "cell_type": "code",
   "execution_count": 30,
   "metadata": {
    "id": "ewbsk71S8hUq"
   },
   "outputs": [
    {
     "name": "stderr",
     "output_type": "stream",
     "text": [
      "`low_cpu_mem_usage` was None, now set to True since model is quantized.\n"
     ]
    }
   ],
   "source": [
    "bnb_config = BitsAndBytesConfig(\n",
    "    load_in_4bit=True,\n",
    "    bnb_4bit_use_double_quant=True,\n",
    "    bnb_4bit_quant_type=\"nf4\",\n",
    "    bnb_4bit_compute_dtype=torch.bfloat16\n",
    ")\n",
    "\n",
    "model = AutoModelForCausalLM.from_pretrained(base_model_id, quantization_config=bnb_config)"
   ]
  },
  {
   "cell_type": "code",
   "execution_count": 31,
   "metadata": {
    "id": "kz56oBNe8joD"
   },
   "outputs": [],
   "source": [
    "# Apply the accelerator. You can comment this out to remove the accelerator.\n",
    "model = accelerator.prepare_model(model)"
   ]
  },
  {
   "cell_type": "code",
   "execution_count": 32,
   "metadata": {
    "id": "hDkvYgbG8lzW"
   },
   "outputs": [],
   "source": [
    "# Re-init the tokenizer so it doesn't add padding or eos token\n",
    "eval_tokenizer = AutoTokenizer.from_pretrained(\n",
    "    base_model_id,\n",
    "    add_bos_token=True,\n",
    ")"
   ]
  },
  {
   "cell_type": "code",
   "execution_count": 33,
   "metadata": {
    "id": "pk34HkAT8oQZ"
   },
   "outputs": [],
   "source": [
    "from peft import prepare_model_for_kbit_training\n",
    "\n",
    "model.gradient_checkpointing_enable()\n",
    "model = prepare_model_for_kbit_training(model)"
   ]
  },
  {
   "cell_type": "code",
   "execution_count": 34,
   "metadata": {
    "id": "y-eFXGhB8qJ-"
   },
   "outputs": [],
   "source": [
    "def print_trainable_parameters(model):\n",
    "    \"\"\"\n",
    "    Prints the number of trainable parameters in the model.\n",
    "    \"\"\"\n",
    "    trainable_params = 0\n",
    "    all_param = 0\n",
    "    for _, param in model.named_parameters():\n",
    "        all_param += param.numel()\n",
    "        if param.requires_grad:\n",
    "            trainable_params += param.numel()\n",
    "    print(\n",
    "        f\"trainable params: {trainable_params} || all params: {all_param} || trainable%: {100 * trainable_params / all_param}\"\n",
    "    )"
   ]
  },
  {
   "cell_type": "code",
   "execution_count": 35,
   "metadata": {
    "id": "kDf9AKOu8sMK"
   },
   "outputs": [
    {
     "name": "stdout",
     "output_type": "stream",
     "text": [
      "MistralForCausalLM(\n",
      "  (model): MistralModel(\n",
      "    (embed_tokens): Embedding(32000, 4096)\n",
      "    (layers): ModuleList(\n",
      "      (0-31): 32 x MistralDecoderLayer(\n",
      "        (self_attn): MistralSdpaAttention(\n",
      "          (q_proj): Linear4bit(in_features=4096, out_features=4096, bias=False)\n",
      "          (k_proj): Linear4bit(in_features=4096, out_features=1024, bias=False)\n",
      "          (v_proj): Linear4bit(in_features=4096, out_features=1024, bias=False)\n",
      "          (o_proj): Linear4bit(in_features=4096, out_features=4096, bias=False)\n",
      "          (rotary_emb): MistralRotaryEmbedding()\n",
      "        )\n",
      "        (mlp): MistralMLP(\n",
      "          (gate_proj): Linear4bit(in_features=4096, out_features=14336, bias=False)\n",
      "          (up_proj): Linear4bit(in_features=4096, out_features=14336, bias=False)\n",
      "          (down_proj): Linear4bit(in_features=14336, out_features=4096, bias=False)\n",
      "          (act_fn): SiLU()\n",
      "        )\n",
      "        (input_layernorm): MistralRMSNorm()\n",
      "        (post_attention_layernorm): MistralRMSNorm()\n",
      "      )\n",
      "    )\n",
      "    (norm): MistralRMSNorm()\n",
      "  )\n",
      "  (lm_head): Linear(in_features=4096, out_features=32000, bias=False)\n",
      ")\n"
     ]
    }
   ],
   "source": [
    "print(model)"
   ]
  },
  {
   "cell_type": "code",
   "execution_count": 36,
   "metadata": {
    "id": "LGPI9kB08t8r"
   },
   "outputs": [
    {
     "name": "stdout",
     "output_type": "stream",
     "text": [
      "trainable params: 21260288 || all params: 3773331456 || trainable%: 0.5634354746703705\n"
     ]
    }
   ],
   "source": [
    "from peft import LoraConfig, get_peft_model\n",
    "\n",
    "config = LoraConfig(\n",
    "    r=8,\n",
    "    lora_alpha=16,\n",
    "    target_modules=[\n",
    "        \"q_proj\",\n",
    "        \"k_proj\",\n",
    "        \"v_proj\",\n",
    "        \"o_proj\",\n",
    "        \"gate_proj\",\n",
    "        \"up_proj\",\n",
    "        \"down_proj\",\n",
    "        \"lm_head\",\n",
    "    ],\n",
    "    bias=\"none\",\n",
    "    lora_dropout=0.05,  # Conventional\n",
    "    task_type=\"CAUSAL_LM\",\n",
    ")\n",
    "\n",
    "model = get_peft_model(model, config)\n",
    "print_trainable_parameters(model)\n",
    "\n",
    "# Apply the accelerator. You can comment this out to remove the accelerator.\n",
    "model = accelerator.prepare_model(model)"
   ]
  },
  {
   "cell_type": "code",
   "execution_count": 37,
   "metadata": {
    "id": "W7Q-bvOy8we7"
   },
   "outputs": [
    {
     "name": "stdout",
     "output_type": "stream",
     "text": [
      "PeftModelForCausalLM(\n",
      "  (base_model): LoraModel(\n",
      "    (model): MistralForCausalLM(\n",
      "      (model): MistralModel(\n",
      "        (embed_tokens): Embedding(32000, 4096)\n",
      "        (layers): ModuleList(\n",
      "          (0-31): 32 x MistralDecoderLayer(\n",
      "            (self_attn): MistralSdpaAttention(\n",
      "              (q_proj): lora.Linear4bit(\n",
      "                (base_layer): Linear4bit(in_features=4096, out_features=4096, bias=False)\n",
      "                (lora_dropout): ModuleDict(\n",
      "                  (default): Dropout(p=0.05, inplace=False)\n",
      "                )\n",
      "                (lora_A): ModuleDict(\n",
      "                  (default): Linear(in_features=4096, out_features=8, bias=False)\n",
      "                )\n",
      "                (lora_B): ModuleDict(\n",
      "                  (default): Linear(in_features=8, out_features=4096, bias=False)\n",
      "                )\n",
      "                (lora_embedding_A): ParameterDict()\n",
      "                (lora_embedding_B): ParameterDict()\n",
      "              )\n",
      "              (k_proj): lora.Linear4bit(\n",
      "                (base_layer): Linear4bit(in_features=4096, out_features=1024, bias=False)\n",
      "                (lora_dropout): ModuleDict(\n",
      "                  (default): Dropout(p=0.05, inplace=False)\n",
      "                )\n",
      "                (lora_A): ModuleDict(\n",
      "                  (default): Linear(in_features=4096, out_features=8, bias=False)\n",
      "                )\n",
      "                (lora_B): ModuleDict(\n",
      "                  (default): Linear(in_features=8, out_features=1024, bias=False)\n",
      "                )\n",
      "                (lora_embedding_A): ParameterDict()\n",
      "                (lora_embedding_B): ParameterDict()\n",
      "              )\n",
      "              (v_proj): lora.Linear4bit(\n",
      "                (base_layer): Linear4bit(in_features=4096, out_features=1024, bias=False)\n",
      "                (lora_dropout): ModuleDict(\n",
      "                  (default): Dropout(p=0.05, inplace=False)\n",
      "                )\n",
      "                (lora_A): ModuleDict(\n",
      "                  (default): Linear(in_features=4096, out_features=8, bias=False)\n",
      "                )\n",
      "                (lora_B): ModuleDict(\n",
      "                  (default): Linear(in_features=8, out_features=1024, bias=False)\n",
      "                )\n",
      "                (lora_embedding_A): ParameterDict()\n",
      "                (lora_embedding_B): ParameterDict()\n",
      "              )\n",
      "              (o_proj): lora.Linear4bit(\n",
      "                (base_layer): Linear4bit(in_features=4096, out_features=4096, bias=False)\n",
      "                (lora_dropout): ModuleDict(\n",
      "                  (default): Dropout(p=0.05, inplace=False)\n",
      "                )\n",
      "                (lora_A): ModuleDict(\n",
      "                  (default): Linear(in_features=4096, out_features=8, bias=False)\n",
      "                )\n",
      "                (lora_B): ModuleDict(\n",
      "                  (default): Linear(in_features=8, out_features=4096, bias=False)\n",
      "                )\n",
      "                (lora_embedding_A): ParameterDict()\n",
      "                (lora_embedding_B): ParameterDict()\n",
      "              )\n",
      "              (rotary_emb): MistralRotaryEmbedding()\n",
      "            )\n",
      "            (mlp): MistralMLP(\n",
      "              (gate_proj): lora.Linear4bit(\n",
      "                (base_layer): Linear4bit(in_features=4096, out_features=14336, bias=False)\n",
      "                (lora_dropout): ModuleDict(\n",
      "                  (default): Dropout(p=0.05, inplace=False)\n",
      "                )\n",
      "                (lora_A): ModuleDict(\n",
      "                  (default): Linear(in_features=4096, out_features=8, bias=False)\n",
      "                )\n",
      "                (lora_B): ModuleDict(\n",
      "                  (default): Linear(in_features=8, out_features=14336, bias=False)\n",
      "                )\n",
      "                (lora_embedding_A): ParameterDict()\n",
      "                (lora_embedding_B): ParameterDict()\n",
      "              )\n",
      "              (up_proj): lora.Linear4bit(\n",
      "                (base_layer): Linear4bit(in_features=4096, out_features=14336, bias=False)\n",
      "                (lora_dropout): ModuleDict(\n",
      "                  (default): Dropout(p=0.05, inplace=False)\n",
      "                )\n",
      "                (lora_A): ModuleDict(\n",
      "                  (default): Linear(in_features=4096, out_features=8, bias=False)\n",
      "                )\n",
      "                (lora_B): ModuleDict(\n",
      "                  (default): Linear(in_features=8, out_features=14336, bias=False)\n",
      "                )\n",
      "                (lora_embedding_A): ParameterDict()\n",
      "                (lora_embedding_B): ParameterDict()\n",
      "              )\n",
      "              (down_proj): lora.Linear4bit(\n",
      "                (base_layer): Linear4bit(in_features=14336, out_features=4096, bias=False)\n",
      "                (lora_dropout): ModuleDict(\n",
      "                  (default): Dropout(p=0.05, inplace=False)\n",
      "                )\n",
      "                (lora_A): ModuleDict(\n",
      "                  (default): Linear(in_features=14336, out_features=8, bias=False)\n",
      "                )\n",
      "                (lora_B): ModuleDict(\n",
      "                  (default): Linear(in_features=8, out_features=4096, bias=False)\n",
      "                )\n",
      "                (lora_embedding_A): ParameterDict()\n",
      "                (lora_embedding_B): ParameterDict()\n",
      "              )\n",
      "              (act_fn): SiLU()\n",
      "            )\n",
      "            (input_layernorm): MistralRMSNorm()\n",
      "            (post_attention_layernorm): MistralRMSNorm()\n",
      "          )\n",
      "        )\n",
      "        (norm): MistralRMSNorm()\n",
      "      )\n",
      "      (lm_head): lora.Linear(\n",
      "        (base_layer): Linear(in_features=4096, out_features=32000, bias=False)\n",
      "        (lora_dropout): ModuleDict(\n",
      "          (default): Dropout(p=0.05, inplace=False)\n",
      "        )\n",
      "        (lora_A): ModuleDict(\n",
      "          (default): Linear(in_features=4096, out_features=8, bias=False)\n",
      "        )\n",
      "        (lora_B): ModuleDict(\n",
      "          (default): Linear(in_features=8, out_features=32000, bias=False)\n",
      "        )\n",
      "        (lora_embedding_A): ParameterDict()\n",
      "        (lora_embedding_B): ParameterDict()\n",
      "      )\n",
      "    )\n",
      "  )\n",
      ")\n"
     ]
    }
   ],
   "source": [
    "print(model)"
   ]
  },
  {
   "cell_type": "code",
   "execution_count": 38,
   "metadata": {},
   "outputs": [],
   "source": [
    "#!pip install wandb"
   ]
  },
  {
   "cell_type": "code",
   "execution_count": 39,
   "metadata": {
    "id": "g4SgGPlQ8yV6"
   },
   "outputs": [
    {
     "name": "stderr",
     "output_type": "stream",
     "text": [
      "Failed to detect the name of this notebook, you can set it manually with the WANDB_NOTEBOOK_NAME environment variable to enable code saving.\n",
      "\u001b[34m\u001b[1mwandb\u001b[0m: Currently logged in as: \u001b[33mavijit2005in\u001b[0m. Use \u001b[1m`wandb login --relogin`\u001b[0m to force relogin\n"
     ]
    },
    {
     "data": {
      "text/plain": [
       "True"
      ]
     },
     "execution_count": 39,
     "metadata": {},
     "output_type": "execute_result"
    }
   ],
   "source": [
    "import wandb, os\n",
    "wandb.login()"
   ]
  },
  {
   "cell_type": "code",
   "execution_count": 40,
   "metadata": {
    "id": "Pf9p6wG980fb"
   },
   "outputs": [],
   "source": [
    "wandb_project = \"biomistral-finetune-identifier-chunked\"\n",
    "if len(wandb_project) > 0:\n",
    "    os.environ[\"WANDB_PROJECT\"] = wandb_project"
   ]
  },
  {
   "cell_type": "code",
   "execution_count": 41,
   "metadata": {
    "id": "4F-T8fYy82Y0"
   },
   "outputs": [],
   "source": [
    "if torch.cuda.device_count() > 1: # If more than 1 GPU\n",
    "    model.is_parallelizable = True\n",
    "    model.model_parallel = True"
   ]
  },
  {
   "cell_type": "code",
   "execution_count": null,
   "metadata": {},
   "outputs": [],
   "source": [
    "'''\n",
    "from transformers import TrainingArguments\n",
    "\n",
    "project = \"snp-finetune-classifier-2024_130624_v2\"\n",
    "base_model_name = \"biomistral\"\n",
    "run_name = base_model_name + \"-\" + project\n",
    "output_dir = \"./\" + run_name\n",
    "\n",
    "tokenizer.pad_token = tokenizer.eos_token\n",
    "\n",
    "training_arguments = TrainingArguments(\n",
    "    output_dir=output_dir,\n",
    "    per_device_train_batch_size=2,\n",
    "    gradient_accumulation_steps=4, # Increase, if still giving OOM error\n",
    "    gradient_checkpointing=True,\n",
    "    optim=\"paged_adamw_8bit\",\n",
    "    max_steps=1000,\n",
    "    save_steps=500,\n",
    "    logging_steps=200,\n",
    "    learning_rate=2.5e-5,\n",
    "    fp16=True, # Enable fp16, bf16 only if your gfx card supports it\n",
    "    evaluation_strategy=\"steps\",\n",
    "    max_grad_norm=0.3,\n",
    "    num_train_epochs=5.0,\n",
    "    weight_decay=0.001,\n",
    "    warmup_steps=50,\n",
    "    lr_scheduler_type=\"linear\",\n",
    "    run_name=run_name,\n",
    "    report_to='wandb',\n",
    ")\n",
    "'''"
   ]
  },
  {
   "cell_type": "code",
   "execution_count": null,
   "metadata": {},
   "outputs": [],
   "source": [
    "'''\n",
    "from trl import SFTTrainer\n",
    "\n",
    "trainer = SFTTrainer(\n",
    "    model=model,\n",
    "    train_dataset=tokenized_train_dataset,#tokenized_train_dataset,\n",
    "    eval_dataset=tokenized_val_dataset, # remove you have low VRAM and getting OOM errors\n",
    "    peft_config=peft_config,\n",
    "    #dataset_text_field=\"notes\",\n",
    "    max_seq_length=2048, # depends on your dataset\n",
    "    #tokenizer=tokenizer,\n",
    "    args=training_arguments,\n",
    "    formatting_func=formatting_prompts_func,\n",
    "    data_collator=collator,\n",
    "    #packing=False,\n",
    ")\n",
    "'''"
   ]
  },
  {
   "cell_type": "code",
   "execution_count": 45,
   "metadata": {},
   "outputs": [],
   "source": [
    "#trainer.train()"
   ]
  },
  {
   "cell_type": "code",
   "execution_count": 42,
   "metadata": {},
   "outputs": [
    {
     "data": {
      "text/plain": [
       "'/home/jupyter/finetune_LLM'"
      ]
     },
     "execution_count": 42,
     "metadata": {},
     "output_type": "execute_result"
    }
   ],
   "source": [
    "os.getcwd()"
   ]
  },
  {
   "cell_type": "code",
   "execution_count": 43,
   "metadata": {
    "id": "zhsGI0wq84ZU"
   },
   "outputs": [
    {
     "name": "stderr",
     "output_type": "stream",
     "text": [
      "/opt/conda/envs/python39/lib/python3.10/site-packages/transformers/training_args.py:1494: FutureWarning: `evaluation_strategy` is deprecated and will be removed in version 4.46 of 🤗 Transformers. Use `eval_strategy` instead\n",
      "  warnings.warn(\n",
      "max_steps is given, it will override any value given in num_train_epochs\n"
     ]
    }
   ],
   "source": [
    "import transformers\n",
    "from datetime import datetime\n",
    "\n",
    "project = \"snp-finetune-classifier-2024_020724_v2\"\n",
    "base_model_name = \"biomistral\"\n",
    "run_name = base_model_name + \"-\" + project\n",
    "output_dir = \"./finetuned_LLM\" + run_name\n",
    "\n",
    "tokenizer.pad_token = tokenizer.eos_token\n",
    "\n",
    "trainer = transformers.Trainer(\n",
    "    model=model,\n",
    "    train_dataset=tokenized_train_dataset,\n",
    "    eval_dataset=tokenized_val_dataset,\n",
    "    args=transformers.TrainingArguments(\n",
    "        output_dir=output_dir,\n",
    "        warmup_steps=5,\n",
    "        per_device_train_batch_size=4,\n",
    "        gradient_checkpointing=True,\n",
    "        gradient_accumulation_steps=4,\n",
    "        max_steps=2000,\n",
    "        learning_rate=2.5e-5, # Want about 10x smaller than the Mistral learning rate\n",
    "        logging_steps=100, #50,\n",
    "        bf16=True,\n",
    "        optim=\"paged_adamw_8bit\",\n",
    "        logging_dir=\"./logs\",        # Directory for storing logs\n",
    "        save_strategy=\"steps\",       # Save the model checkpoint every logging step\n",
    "        save_steps=500, #50,                # Save checkpoints every 50 steps\n",
    "        evaluation_strategy=\"steps\", # Evaluate the model every logging step\n",
    "        eval_steps=500, #50,               # Evaluate and save checkpoints every 50 steps\n",
    "        do_eval=True,                # Perform evaluation at the end of training\n",
    "        report_to=\"wandb\",           # Comment this out if you don't want to use weights & baises\n",
    "        gradient_checkpointing_kwargs={'use_reentrant': True},\n",
    "        run_name=f\"{run_name}-{datetime.now().strftime('%Y-%m-%d-%H-%M')}\"          # Name of the W&B run (optional)\n",
    "    ),\n",
    "    data_collator=transformers.DataCollatorForLanguageModeling(tokenizer, mlm=False),\n",
    ")"
   ]
  },
  {
   "cell_type": "code",
   "execution_count": 44,
   "metadata": {},
   "outputs": [
    {
     "data": {
      "text/html": [
       "Changes to your `wandb` environment variables will be ignored because your `wandb` session has already started. For more information on how to modify your settings with `wandb.init()` arguments, please refer to <a href='https://wandb.me/wandb-init' target=\"_blank\">the W&B docs</a>."
      ],
      "text/plain": [
       "<IPython.core.display.HTML object>"
      ]
     },
     "metadata": {},
     "output_type": "display_data"
    },
    {
     "data": {
      "text/html": [
       "Tracking run with wandb version 0.17.3"
      ],
      "text/plain": [
       "<IPython.core.display.HTML object>"
      ]
     },
     "metadata": {},
     "output_type": "display_data"
    },
    {
     "data": {
      "text/html": [
       "Run data is saved locally in <code>/home/jupyter/finetune_LLM/wandb/run-20240701_191655-3qxyxiji</code>"
      ],
      "text/plain": [
       "<IPython.core.display.HTML object>"
      ]
     },
     "metadata": {},
     "output_type": "display_data"
    },
    {
     "data": {
      "text/html": [
       "Syncing run <strong><a href='https://wandb.ai/avijit2005in/biomistral-finetune-identifier-chunked/runs/3qxyxiji' target=\"_blank\">biomistral-snp-finetune-classifier-2024_020724_v2-2024-07-01-19-16</a></strong> to <a href='https://wandb.ai/avijit2005in/biomistral-finetune-identifier-chunked' target=\"_blank\">Weights & Biases</a> (<a href='https://wandb.me/run' target=\"_blank\">docs</a>)<br/>"
      ],
      "text/plain": [
       "<IPython.core.display.HTML object>"
      ]
     },
     "metadata": {},
     "output_type": "display_data"
    },
    {
     "data": {
      "text/html": [
       " View project at <a href='https://wandb.ai/avijit2005in/biomistral-finetune-identifier-chunked' target=\"_blank\">https://wandb.ai/avijit2005in/biomistral-finetune-identifier-chunked</a>"
      ],
      "text/plain": [
       "<IPython.core.display.HTML object>"
      ]
     },
     "metadata": {},
     "output_type": "display_data"
    },
    {
     "data": {
      "text/html": [
       " View run at <a href='https://wandb.ai/avijit2005in/biomistral-finetune-identifier-chunked/runs/3qxyxiji' target=\"_blank\">https://wandb.ai/avijit2005in/biomistral-finetune-identifier-chunked/runs/3qxyxiji</a>"
      ],
      "text/plain": [
       "<IPython.core.display.HTML object>"
      ]
     },
     "metadata": {},
     "output_type": "display_data"
    },
    {
     "data": {
      "text/html": [
       "\n",
       "    <div>\n",
       "      \n",
       "      <progress value='2000' max='2000' style='width:300px; height:20px; vertical-align: middle;'></progress>\n",
       "      [2000/2000 9:12:15, Epoch 59/61]\n",
       "    </div>\n",
       "    <table border=\"1\" class=\"dataframe\">\n",
       "  <thead>\n",
       " <tr style=\"text-align: left;\">\n",
       "      <th>Step</th>\n",
       "      <th>Training Loss</th>\n",
       "      <th>Validation Loss</th>\n",
       "    </tr>\n",
       "  </thead>\n",
       "  <tbody>\n",
       "    <tr>\n",
       "      <td>500</td>\n",
       "      <td>0.391900</td>\n",
       "      <td>0.902202</td>\n",
       "    </tr>\n",
       "    <tr>\n",
       "      <td>1000</td>\n",
       "      <td>0.098300</td>\n",
       "      <td>1.260307</td>\n",
       "    </tr>\n",
       "    <tr>\n",
       "      <td>1500</td>\n",
       "      <td>0.024800</td>\n",
       "      <td>1.550821</td>\n",
       "    </tr>\n",
       "    <tr>\n",
       "      <td>2000</td>\n",
       "      <td>0.008800</td>\n",
       "      <td>1.719059</td>\n",
       "    </tr>\n",
       "  </tbody>\n",
       "</table><p>"
      ],
      "text/plain": [
       "<IPython.core.display.HTML object>"
      ]
     },
     "metadata": {},
     "output_type": "display_data"
    },
    {
     "name": "stderr",
     "output_type": "stream",
     "text": [
      "/opt/conda/envs/python39/lib/python3.10/site-packages/peft/utils/save_and_load.py:180: UserWarning: Setting `save_embedding_layers` to `True` as embedding layers found in `target_modules`.\n",
      "  warnings.warn(\"Setting `save_embedding_layers` to `True` as embedding layers found in `target_modules`.\")\n",
      "/opt/conda/envs/python39/lib/python3.10/site-packages/peft/utils/save_and_load.py:180: UserWarning: Setting `save_embedding_layers` to `True` as embedding layers found in `target_modules`.\n",
      "  warnings.warn(\"Setting `save_embedding_layers` to `True` as embedding layers found in `target_modules`.\")\n",
      "/opt/conda/envs/python39/lib/python3.10/site-packages/peft/utils/save_and_load.py:180: UserWarning: Setting `save_embedding_layers` to `True` as embedding layers found in `target_modules`.\n",
      "  warnings.warn(\"Setting `save_embedding_layers` to `True` as embedding layers found in `target_modules`.\")\n"
     ]
    },
    {
     "data": {
      "text/plain": [
       "TrainOutput(global_step=2000, training_loss=0.22947957682609557, metrics={'train_runtime': 33167.0523, 'train_samples_per_second': 0.965, 'train_steps_per_second': 0.06, 'total_flos': 2.799214620491907e+18, 'train_loss': 0.22947957682609557, 'epoch': 59.701492537313435})"
      ]
     },
     "execution_count": 44,
     "metadata": {},
     "output_type": "execute_result"
    }
   ],
   "source": [
    "model.config.use_cache = False  # silence the warnings. Please re-enable for inference!\n",
    "trainer.train()"
   ]
  },
  {
   "cell_type": "code",
   "execution_count": null,
   "metadata": {},
   "outputs": [],
   "source": []
  },
  {
   "cell_type": "code",
   "execution_count": null,
   "metadata": {
    "id": "4tPXvNNT868_"
   },
   "outputs": [],
   "source": [
    "import torch\n",
    "from transformers import AutoTokenizer, AutoModelForCausalLM, BitsAndBytesConfig\n",
    "\n",
    "base_model_id = \"BioMistral/BioMistral-7B\"\n",
    "bnb_config = BitsAndBytesConfig(\n",
    "    load_in_4bit=True,\n",
    "    bnb_4bit_use_double_quant=True,\n",
    "    bnb_4bit_quant_type=\"nf4\",\n",
    "    bnb_4bit_compute_dtype=torch.bfloat16\n",
    ")\n",
    "\n",
    "base_model = AutoModelForCausalLM.from_pretrained(\n",
    "    base_model_id,  # Mistral, same as before\n",
    "    quantization_config=bnb_config,  # Same quantization config as before\n",
    "    device_map=\"auto\",\n",
    "    trust_remote_code=True,\n",
    ")\n",
    "\n",
    "eval_tokenizer = AutoTokenizer.from_pretrained(\n",
    "    base_model_id,\n",
    "    add_bos_token=True,\n",
    "    trust_remote_code=True,\n",
    ")"
   ]
  },
  {
   "cell_type": "code",
   "execution_count": null,
   "metadata": {
    "id": "4ZTjeH3b89G6"
   },
   "outputs": [],
   "source": [
    "from peft import PeftModel\n",
    "\n",
    "ft_model = PeftModel.from_pretrained(base_model, \"biomistral-snp-finetune-classifier-2024/checkpoint-250\")"
   ]
  },
  {
   "cell_type": "code",
   "execution_count": null,
   "metadata": {
    "id": "DPglDMaO8_BM"
   },
   "outputs": [],
   "source": [
    "dataset"
   ]
  },
  {
   "cell_type": "code",
   "execution_count": null,
   "metadata": {
    "id": "LNFFSm_c9A5k"
   },
   "outputs": [],
   "source": [
    "eval_prompt = f\"\"\"Classify the notes into below categories:\n",
    "                   'allergies',\n",
    "                   'chief_complaints',\n",
    "                   'diagnosis',\n",
    "                   'family_history',\n",
    "                   'history',\n",
    "                   'instructions_advice',\n",
    "                   'investigation_report',\n",
    "                   'investigations',\n",
    "                   'medicine_prescription',\n",
    "                   'observations_examinations',\n",
    "                   'patient_willingness_concent',\n",
    "                   'personal_history',\n",
    "                   'procedure_report',\n",
    "                   'referral',\n",
    "                   'social_history',\n",
    "                   'tolerance',\n",
    "                   'treatment_plan',\n",
    "                   'unclassified',\n",
    "                   'vitals'\n",
    "                    Output the classified data into json format\n",
    "\n",
    "\n",
    "### notes:\n",
    "{dataset[\"test\"][\"notes\"][1]}\n",
    "\n",
    "### Classified:\n",
    "\"\"\"\n",
    "print(eval_prompt)"
   ]
  },
  {
   "cell_type": "code",
   "execution_count": null,
   "metadata": {
    "id": "tfEwlTRr9Gr8"
   },
   "outputs": [],
   "source": [
    "dataset[\"test\"][\"classified\"][1]"
   ]
  },
  {
   "cell_type": "code",
   "execution_count": null,
   "metadata": {
    "id": "EesRQqRU9KdG"
   },
   "outputs": [],
   "source": [
    "%%time\n",
    "model_input = eval_tokenizer(eval_prompt, return_tensors=\"pt\").to(\"cuda\")\n",
    "\n",
    "ft_model.eval()\n",
    "with torch.no_grad():\n",
    "    print(eval_tokenizer.decode(ft_model.generate(**model_input, max_new_tokens=2048)[0], skip_special_tokens=True))"
   ]
  },
  {
   "cell_type": "code",
   "execution_count": null,
   "metadata": {
    "id": "4CpINfgf9NJ_"
   },
   "outputs": [],
   "source": [
    "%%time\n",
    "model_input = eval_tokenizer(eval_prompt, return_tensors=\"pt\").to(\"cuda\")\n",
    "\n",
    "ft_model.eval()\n",
    "with torch.no_grad():\n",
    "    print(eval_tokenizer.decode(ft_model.generate(**model_input, max_new_tokens=1024)[0], skip_special_tokens=True))"
   ]
  },
  {
   "cell_type": "code",
   "execution_count": null,
   "metadata": {
    "id": "d7KjRsUN9Pb9"
   },
   "outputs": [],
   "source": [
    "%%time\n",
    "model_input = eval_tokenizer(eval_prompt, return_tensors=\"pt\").to(\"cuda\")\n",
    "\n",
    "ft_model.eval()\n",
    "with torch.no_grad():\n",
    "    print(eval_tokenizer.decode(ft_model.generate(**model_input, max_new_tokens=512)[0], skip_special_tokens=True))"
   ]
  },
  {
   "cell_type": "code",
   "execution_count": null,
   "metadata": {
    "id": "cgDJIY0X9RqW"
   },
   "outputs": [],
   "source": []
  },
  {
   "cell_type": "code",
   "execution_count": null,
   "metadata": {
    "id": "Xs-N192W9Uag"
   },
   "outputs": [],
   "source": []
  },
  {
   "cell_type": "code",
   "execution_count": null,
   "metadata": {
    "id": "BWs3JXpv9Ufk"
   },
   "outputs": [],
   "source": []
  },
  {
   "cell_type": "code",
   "execution_count": null,
   "metadata": {
    "id": "e92HQNmO9UiT"
   },
   "outputs": [],
   "source": []
  },
  {
   "cell_type": "code",
   "execution_count": null,
   "metadata": {
    "id": "vckV4Dor9UmY"
   },
   "outputs": [],
   "source": [
    "import os\n",
    "os.environ[\"WANDB_PROJECT\"]=\"openhathi_instruct_finetuning\"\n",
    "\n",
    "from enum import Enum\n",
    "from functools import partial\n",
    "import pandas as pd\n",
    "import torch\n",
    "\n",
    "from transformers import AutoModelForCausalLM, LlamaTokenizer, TrainingArguments, set_seed\n",
    "from datasets import load_dataset\n",
    "from trl import SFTTrainer\n",
    "from peft import get_peft_model, LoraConfig, TaskType\n",
    "\n",
    "seed = 42\n",
    "set_seed(seed)"
   ]
  },
  {
   "cell_type": "code",
   "execution_count": null,
   "metadata": {
    "id": "Av1yUHLA9VQA"
   },
   "outputs": [],
   "source": [
    "dataset_name = \"smangrul/hinglish_self_instruct_v0\"\n",
    "dataset = load_dataset(dataset_name)\n",
    "dataset"
   ]
  },
  {
   "cell_type": "code",
   "execution_count": null,
   "metadata": {
    "id": "wsZbon3F9XEC"
   },
   "outputs": [],
   "source": [
    "dataset[\"train\"][0]"
   ]
  },
  {
   "cell_type": "code",
   "execution_count": null,
   "metadata": {
    "id": "fCK4L-ar9Yvn"
   },
   "outputs": [],
   "source": [
    "model_name = \"sarvamai/OpenHathi-7B-Hi-v0.1-Base\"\n",
    "dataset_name = \"smangrul/hinglish_self_instruct_v0\"\n",
    "tokenizer = LlamaTokenizer.from_pretrained(model_name)\n",
    "template = \"\"\"{% for message in messages %}\\n{{'<|im_start|>' + message['role'] + '\\n' + message['content'] + '<|im_end|>' + '\\n'}}{% if loop.last and add_generation_prompt %}{{'<|im_start|>assistant\\n' }}{% endif %}{% endfor %}\"\"\"\n",
    "tokenizer.chat_template = template\n",
    "\n",
    "def preprocess(samples):\n",
    "    batch = []\n",
    "    for conversation in samples[\"messages\"]:\n",
    "        batch.append(tokenizer.apply_chat_template(conversation, tokenize=False))\n",
    "    return {\"content\": batch}\n",
    "\n",
    "dataset = load_dataset(dataset_name)\n",
    "dataset = dataset.map(\n",
    "    preprocess,\n",
    "    batched=True,\n",
    "    remove_columns=dataset[\"train\"].column_names\n",
    ")\n",
    "dataset = dataset[\"train\"].train_test_split(0.1)\n",
    "print(dataset)\n",
    "print(dataset[\"train\"][0])"
   ]
  }
 ],
 "metadata": {
  "colab": {
   "provenance": []
  },
  "environment": {
   "kernel": "python39",
   "name": "tf2-gpu.2-11.m111",
   "type": "gcloud",
   "uri": "gcr.io/deeplearning-platform-release/tf2-gpu.2-11:m111"
  },
  "kernelspec": {
   "display_name": "python39",
   "language": "python",
   "name": "python39"
  },
  "language_info": {
   "codemirror_mode": {
    "name": "ipython",
    "version": 3
   },
   "file_extension": ".py",
   "mimetype": "text/x-python",
   "name": "python",
   "nbconvert_exporter": "python",
   "pygments_lexer": "ipython3",
   "version": "3.10.12"
  }
 },
 "nbformat": 4,
 "nbformat_minor": 4
}
