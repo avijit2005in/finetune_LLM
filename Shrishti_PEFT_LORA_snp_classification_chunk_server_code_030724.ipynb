{
 "cells": [
  {
   "cell_type": "code",
   "execution_count": 1,
   "metadata": {
    "id": "lGSaUeWJ7Zfz"
   },
   "outputs": [],
   "source": [
    "import pandas as pd\n",
    "import os\n",
    "import numpy as np"
   ]
  },
  {
   "cell_type": "code",
   "execution_count": 2,
   "metadata": {
    "id": "tXn-m4Qi7cjd"
   },
   "outputs": [
    {
     "data": {
      "text/plain": [
       "'/home/jupyter/finetune_LLM'"
      ]
     },
     "execution_count": 2,
     "metadata": {},
     "output_type": "execute_result"
    }
   ],
   "source": [
    "os.getcwd()"
   ]
  },
  {
   "cell_type": "code",
   "execution_count": 3,
   "metadata": {
    "id": "ZcSBrcG27fG2"
   },
   "outputs": [],
   "source": [
    "#os.environ[\"CUDA_VISIBLE_DEVICES\"] = \"0\"\n",
    "import torch"
   ]
  },
  {
   "cell_type": "code",
   "execution_count": 20,
   "metadata": {},
   "outputs": [
    {
     "data": {
      "text/html": [
       "<div>\n",
       "<style scoped>\n",
       "    .dataframe tbody tr th:only-of-type {\n",
       "        vertical-align: middle;\n",
       "    }\n",
       "\n",
       "    .dataframe tbody tr th {\n",
       "        vertical-align: top;\n",
       "    }\n",
       "\n",
       "    .dataframe thead th {\n",
       "        text-align: right;\n",
       "    }\n",
       "</style>\n",
       "<table border=\"1\" class=\"dataframe\">\n",
       "  <thead>\n",
       "    <tr style=\"text-align: right;\">\n",
       "      <th></th>\n",
       "      <th>Text</th>\n",
       "      <th>Label</th>\n",
       "    </tr>\n",
       "  </thead>\n",
       "  <tbody>\n",
       "    <tr>\n",
       "      <th>0</th>\n",
       "      <td>lactulose 3.335g/5ml syrup 100ml, dosage: 1, r...</td>\n",
       "      <td>recipere</td>\n",
       "    </tr>\n",
       "    <tr>\n",
       "      <th>1</th>\n",
       "      <td>dicyclomine hcl+paracetamol tablets, dosage: 2...</td>\n",
       "      <td>recipere</td>\n",
       "    </tr>\n",
       "    <tr>\n",
       "      <th>2</th>\n",
       "      <td>liver function tests, amylase, urinalysis, lip...</td>\n",
       "      <td>investigations</td>\n",
       "    </tr>\n",
       "    <tr>\n",
       "      <th>3</th>\n",
       "      <td>labmeds ct with avamys sprayent reviewcovid te...</td>\n",
       "      <td>plan</td>\n",
       "    </tr>\n",
       "    <tr>\n",
       "      <th>4</th>\n",
       "      <td>coughfeverdiarrhea</td>\n",
       "      <td>complaints</td>\n",
       "    </tr>\n",
       "    <tr>\n",
       "      <th>...</th>\n",
       "      <td>...</td>\n",
       "      <td>...</td>\n",
       "    </tr>\n",
       "    <tr>\n",
       "      <th>68047</th>\n",
       "      <td>He had this 3 days ago, no diarrhoea or vomiti...</td>\n",
       "      <td>history of previous illness</td>\n",
       "    </tr>\n",
       "    <tr>\n",
       "      <th>68048</th>\n",
       "      <td>Candidal stomatitis, Acute pharyngitis, Allerg...</td>\n",
       "      <td>diagnoses</td>\n",
       "    </tr>\n",
       "    <tr>\n",
       "      <th>68049</th>\n",
       "      <td>In FGC.NO pallor, clinically afebrile, no jaun...</td>\n",
       "      <td>examination</td>\n",
       "    </tr>\n",
       "    <tr>\n",
       "      <th>68050</th>\n",
       "      <td>I had a productive cough, no runny nose, and m...</td>\n",
       "      <td>history of previous illness</td>\n",
       "    </tr>\n",
       "    <tr>\n",
       "      <th>68051</th>\n",
       "      <td>Seen at Aga Khan Hospital on 9123 and started ...</td>\n",
       "      <td>history of previous illness</td>\n",
       "    </tr>\n",
       "  </tbody>\n",
       "</table>\n",
       "<p>68052 rows × 2 columns</p>\n",
       "</div>"
      ],
      "text/plain": [
       "                                                    Text  \\\n",
       "0      lactulose 3.335g/5ml syrup 100ml, dosage: 1, r...   \n",
       "1      dicyclomine hcl+paracetamol tablets, dosage: 2...   \n",
       "2      liver function tests, amylase, urinalysis, lip...   \n",
       "3      labmeds ct with avamys sprayent reviewcovid te...   \n",
       "4                                     coughfeverdiarrhea   \n",
       "...                                                  ...   \n",
       "68047  He had this 3 days ago, no diarrhoea or vomiti...   \n",
       "68048  Candidal stomatitis, Acute pharyngitis, Allerg...   \n",
       "68049  In FGC.NO pallor, clinically afebrile, no jaun...   \n",
       "68050  I had a productive cough, no runny nose, and m...   \n",
       "68051  Seen at Aga Khan Hospital on 9123 and started ...   \n",
       "\n",
       "                             Label  \n",
       "0                         recipere  \n",
       "1                         recipere  \n",
       "2                   investigations  \n",
       "3                             plan  \n",
       "4                       complaints  \n",
       "...                            ...  \n",
       "68047  history of previous illness  \n",
       "68048                    diagnoses  \n",
       "68049                  examination  \n",
       "68050  history of previous illness  \n",
       "68051  history of previous illness  \n",
       "\n",
       "[68052 rows x 2 columns]"
      ]
     },
     "execution_count": 20,
     "metadata": {},
     "output_type": "execute_result"
    }
   ],
   "source": [
    "org_classified_shrishti_df = pd.read_csv('/home/jupyter/finetune_LLM/Data/shrishti/train/Notes_text_labels_shrishti.csv')\n",
    "org_classified_shrishti_df"
   ]
  },
  {
   "cell_type": "code",
   "execution_count": 22,
   "metadata": {},
   "outputs": [
    {
     "data": {
      "text/plain": [
       "array(['recipere', 'investigations', 'plan', 'complaints',\n",
       "       'history of previous illness', 'examination', 'diagnoses'],\n",
       "      dtype=object)"
      ]
     },
     "execution_count": 22,
     "metadata": {},
     "output_type": "execute_result"
    }
   ],
   "source": [
    "org_classified_shrishti_df['Label'].unique()"
   ]
  },
  {
   "cell_type": "code",
   "execution_count": 4,
   "metadata": {
    "id": "3wCxGbex7hs0"
   },
   "outputs": [],
   "source": [
    "classified_shrishti_df = pd.read_csv('/home/jupyter/finetune_LLM/Data/shrishti/train/processed_chunked_files_llm_finetuining_shrishti.csv')\n"
   ]
  },
  {
   "cell_type": "code",
   "execution_count": 5,
   "metadata": {},
   "outputs": [
    {
     "data": {
      "text/html": [
       "<div>\n",
       "<style scoped>\n",
       "    .dataframe tbody tr th:only-of-type {\n",
       "        vertical-align: middle;\n",
       "    }\n",
       "\n",
       "    .dataframe tbody tr th {\n",
       "        vertical-align: top;\n",
       "    }\n",
       "\n",
       "    .dataframe thead th {\n",
       "        text-align: right;\n",
       "    }\n",
       "</style>\n",
       "<table border=\"1\" class=\"dataframe\">\n",
       "  <thead>\n",
       "    <tr style=\"text-align: right;\">\n",
       "      <th></th>\n",
       "      <th>filename</th>\n",
       "      <th>notes</th>\n",
       "      <th>classified</th>\n",
       "    </tr>\n",
       "  </thead>\n",
       "  <tbody>\n",
       "    <tr>\n",
       "      <th>0</th>\n",
       "      <td>Notes_text_shrishti_chunk_1382.txt</td>\n",
       "      <td>amoxycillin +clarithromycin+ esomeprazole (100...</td>\n",
       "      <td>{'recipere': ['amoxycillin +clarithromycin+ es...</td>\n",
       "    </tr>\n",
       "    <tr>\n",
       "      <th>1</th>\n",
       "      <td>Notes_text_shrishti_chunk_9906.txt</td>\n",
       "      <td>examinationfgc,well hydrated,no jaundice,febri...</td>\n",
       "      <td>{'examination': ['examinationfgc,well hydrated...</td>\n",
       "    </tr>\n",
       "    <tr>\n",
       "      <th>2</th>\n",
       "      <td>Notes_text_shrishti_chunk_3595.txt</td>\n",
       "      <td>acute coronary syndrome profiledo cardiac biom...</td>\n",
       "      <td>{'plan': ['acute coronary syndrome profiledo c...</td>\n",
       "    </tr>\n",
       "    <tr>\n",
       "      <th>3</th>\n",
       "      <td>Notes_text_shrishti_chunk_2853.txt</td>\n",
       "      <td>paracetamol tabs 500 mg, dosage: 2, route: 106...</td>\n",
       "      <td>{'recipere': ['paracetamol tabs 500 mg, dosage...</td>\n",
       "    </tr>\n",
       "    <tr>\n",
       "      <th>4</th>\n",
       "      <td>Notes_text_shrishti_chunk_5682.txt</td>\n",
       "      <td>nausea, poor appetite, no abdominal pain, no h...</td>\n",
       "      <td>{'history_of_previous_illness': ['nausea, poor...</td>\n",
       "    </tr>\n",
       "    <tr>\n",
       "      <th>...</th>\n",
       "      <td>...</td>\n",
       "      <td>...</td>\n",
       "      <td>...</td>\n",
       "    </tr>\n",
       "    <tr>\n",
       "      <th>10516</th>\n",
       "      <td>Notes_text_shrishti_chunk_5843.txt</td>\n",
       "      <td>34 year old female with 2days history of lower...</td>\n",
       "      <td>{'history_of_previous_illness': ['34 year old ...</td>\n",
       "    </tr>\n",
       "    <tr>\n",
       "      <th>10517</th>\n",
       "      <td>Notes_text_shrishti_chunk_335.txt</td>\n",
       "      <td>general fair general condition, not pale, not ...</td>\n",
       "      <td>{'examination': ['general fair general conditi...</td>\n",
       "    </tr>\n",
       "    <tr>\n",
       "      <th>10518</th>\n",
       "      <td>Notes_text_shrishti_chunk_453.txt</td>\n",
       "      <td>cetrizine 5mg/5ml syrup 30ml, dosage: 1, route...</td>\n",
       "      <td>{'recipere': ['cetrizine 5mg/5ml syrup 30ml, d...</td>\n",
       "    </tr>\n",
       "    <tr>\n",
       "      <th>10519</th>\n",
       "      <td>Notes_text_shrishti_chunk_2692.txt</td>\n",
       "      <td>cetrizine 5mg/5ml syrup 50ml, dosage: 5ml, rou...</td>\n",
       "      <td>{'recipere': ['cetrizine 5mg/5ml syrup 50ml, d...</td>\n",
       "    </tr>\n",
       "    <tr>\n",
       "      <th>10520</th>\n",
       "      <td>Notes_text_shrishti_chunk_7932.txt</td>\n",
       "      <td>fgc, no pallor, jaundice, cyanosis, dehydratio...</td>\n",
       "      <td>{'examination': ['fgc, no pallor, jaundice, cy...</td>\n",
       "    </tr>\n",
       "  </tbody>\n",
       "</table>\n",
       "<p>10521 rows × 3 columns</p>\n",
       "</div>"
      ],
      "text/plain": [
       "                                 filename  \\\n",
       "0      Notes_text_shrishti_chunk_1382.txt   \n",
       "1      Notes_text_shrishti_chunk_9906.txt   \n",
       "2      Notes_text_shrishti_chunk_3595.txt   \n",
       "3      Notes_text_shrishti_chunk_2853.txt   \n",
       "4      Notes_text_shrishti_chunk_5682.txt   \n",
       "...                                   ...   \n",
       "10516  Notes_text_shrishti_chunk_5843.txt   \n",
       "10517   Notes_text_shrishti_chunk_335.txt   \n",
       "10518   Notes_text_shrishti_chunk_453.txt   \n",
       "10519  Notes_text_shrishti_chunk_2692.txt   \n",
       "10520  Notes_text_shrishti_chunk_7932.txt   \n",
       "\n",
       "                                                   notes  \\\n",
       "0      amoxycillin +clarithromycin+ esomeprazole (100...   \n",
       "1      examinationfgc,well hydrated,no jaundice,febri...   \n",
       "2      acute coronary syndrome profiledo cardiac biom...   \n",
       "3      paracetamol tabs 500 mg, dosage: 2, route: 106...   \n",
       "4      nausea, poor appetite, no abdominal pain, no h...   \n",
       "...                                                  ...   \n",
       "10516  34 year old female with 2days history of lower...   \n",
       "10517  general fair general condition, not pale, not ...   \n",
       "10518  cetrizine 5mg/5ml syrup 30ml, dosage: 1, route...   \n",
       "10519  cetrizine 5mg/5ml syrup 50ml, dosage: 5ml, rou...   \n",
       "10520  fgc, no pallor, jaundice, cyanosis, dehydratio...   \n",
       "\n",
       "                                              classified  \n",
       "0      {'recipere': ['amoxycillin +clarithromycin+ es...  \n",
       "1      {'examination': ['examinationfgc,well hydrated...  \n",
       "2      {'plan': ['acute coronary syndrome profiledo c...  \n",
       "3      {'recipere': ['paracetamol tabs 500 mg, dosage...  \n",
       "4      {'history_of_previous_illness': ['nausea, poor...  \n",
       "...                                                  ...  \n",
       "10516  {'history_of_previous_illness': ['34 year old ...  \n",
       "10517  {'examination': ['general fair general conditi...  \n",
       "10518  {'recipere': ['cetrizine 5mg/5ml syrup 30ml, d...  \n",
       "10519  {'recipere': ['cetrizine 5mg/5ml syrup 50ml, d...  \n",
       "10520  {'examination': ['fgc, no pallor, jaundice, cy...  \n",
       "\n",
       "[10521 rows x 3 columns]"
      ]
     },
     "execution_count": 5,
     "metadata": {},
     "output_type": "execute_result"
    }
   ],
   "source": [
    "classified_shrishti_df"
   ]
  },
  {
   "cell_type": "code",
   "execution_count": 6,
   "metadata": {},
   "outputs": [],
   "source": [
    "classified_df = classified_shrishti_df"
   ]
  },
  {
   "cell_type": "code",
   "execution_count": 7,
   "metadata": {
    "id": "dbpWN0Yx7vRr"
   },
   "outputs": [],
   "source": [
    "classified_df['notes_character_count'] = classified_df['notes'].str.len()"
   ]
  },
  {
   "cell_type": "code",
   "execution_count": 8,
   "metadata": {
    "id": "BrpPgu-A7v39"
   },
   "outputs": [
    {
     "name": "stderr",
     "output_type": "stream",
     "text": [
      "/opt/conda/envs/python39/lib/python3.10/site-packages/tqdm/auto.py:21: TqdmWarning: IProgress not found. Please update jupyter and ipywidgets. See https://ipywidgets.readthedocs.io/en/stable/user_install.html\n",
      "  from .autonotebook import tqdm as notebook_tqdm\n"
     ]
    }
   ],
   "source": [
    "import torch\n",
    "from transformers import AutoTokenizer, AutoModelForCausalLM, BitsAndBytesConfig\n",
    "\n",
    "base_model_id = \"BioMistral/BioMistral-7B\"\n",
    "tokenizer = AutoTokenizer.from_pretrained(\n",
    "    base_model_id,\n",
    "    add_eos_token=True,\n",
    "    add_bos_token=True,\n",
    ")\n"
   ]
  },
  {
   "cell_type": "code",
   "execution_count": 9,
   "metadata": {
    "id": "aSW3qXmP7xog"
   },
   "outputs": [],
   "source": [
    "classified_df['token_count_notes'] = classified_df['notes'].apply(lambda x: len(tokenizer.encode(x)))\n",
    "classified_df['token_count_classified'] = classified_df['classified'].apply(lambda x: len(tokenizer.encode(x)))"
   ]
  },
  {
   "cell_type": "code",
   "execution_count": 10,
   "metadata": {
    "id": "GbZ6_JTj7zX2"
   },
   "outputs": [],
   "source": [
    "#classified_df['num_split_notes'] = np.ceil(classified_df['token_count_notes']/1024).astype(int)"
   ]
  },
  {
   "cell_type": "code",
   "execution_count": 11,
   "metadata": {
    "id": "2o4MlJ6u7302"
   },
   "outputs": [],
   "source": [
    "#print(classified_df[classified_df[\"filename\"]==\"Notes_text_7202_chunk_1.txt\"][\"notes\"])"
   ]
  },
  {
   "cell_type": "code",
   "execution_count": 12,
   "metadata": {
    "id": "dIVqNDtm76QU"
   },
   "outputs": [
    {
     "data": {
      "text/plain": [
       "10521"
      ]
     },
     "execution_count": 12,
     "metadata": {},
     "output_type": "execute_result"
    }
   ],
   "source": [
    "len(classified_df)"
   ]
  },
  {
   "cell_type": "code",
   "execution_count": 13,
   "metadata": {
    "id": "QXS1oVVG76zZ"
   },
   "outputs": [
    {
     "data": {
      "image/png": "[encoded data removed]",
      "text/plain": [
       "<Figure size 1000x600 with 1 Axes>"
      ]
     },
     "metadata": {},
     "output_type": "display_data"
    }
   ],
   "source": [
    "import seaborn as sns\n",
    "import matplotlib.pyplot as plt\n",
    "\n",
    "# Plotting the distribution using seaborn\n",
    "plt.figure(figsize=(10, 6))\n",
    "sns.histplot(classified_df['token_count_notes'], bins=10, kde=True)\n",
    "plt.title('Distribution of Token Count')\n",
    "plt.xlabel('Token Count')\n",
    "plt.ylabel('Frequency')\n",
    "plt.grid(True)\n",
    "plt.show()"
   ]
  },
  {
   "cell_type": "code",
   "execution_count": 14,
   "metadata": {
    "id": "dq4z2q_E787e"
   },
   "outputs": [],
   "source": [
    "from accelerate import FullyShardedDataParallelPlugin, Accelerator\n",
    "from torch.distributed.fsdp.fully_sharded_data_parallel import FullOptimStateDictConfig, FullStateDictConfig\n",
    "\n",
    "fsdp_plugin = FullyShardedDataParallelPlugin(\n",
    "    state_dict_config=FullStateDictConfig(offload_to_cpu=True, rank0_only=False),\n",
    "    optim_state_dict_config=FullOptimStateDictConfig(offload_to_cpu=True, rank0_only=False),\n",
    ")\n",
    "\n",
    "accelerator = Accelerator(fsdp_plugin=fsdp_plugin)"
   ]
  },
  {
   "cell_type": "code",
   "execution_count": 15,
   "metadata": {
    "id": "UiGDmFIb7_Gc"
   },
   "outputs": [],
   "source": [
    "from datasets import Dataset\n",
    "dataset = Dataset.from_pandas(classified_df)"
   ]
  },
  {
   "cell_type": "code",
   "execution_count": 16,
   "metadata": {
    "id": "xHW74D3y8BHs"
   },
   "outputs": [
    {
     "data": {
      "text/plain": [
       "Dataset({\n",
       "    features: ['filename', 'notes', 'classified', 'notes_character_count', 'token_count_notes', 'token_count_classified'],\n",
       "    num_rows: 10521\n",
       "})"
      ]
     },
     "execution_count": 16,
     "metadata": {},
     "output_type": "execute_result"
    }
   ],
   "source": [
    "dataset"
   ]
  },
  {
   "cell_type": "code",
   "execution_count": 17,
   "metadata": {
    "id": "8IBrZuDl8C4a"
   },
   "outputs": [],
   "source": [
    "dataset = dataset.train_test_split(0.1)"
   ]
  },
  {
   "cell_type": "code",
   "execution_count": 18,
   "metadata": {
    "id": "ozrVrzF08EtC"
   },
   "outputs": [
    {
     "data": {
      "text/plain": [
       "DatasetDict({\n",
       "    train: Dataset({\n",
       "        features: ['filename', 'notes', 'classified', 'notes_character_count', 'token_count_notes', 'token_count_classified'],\n",
       "        num_rows: 9468\n",
       "    })\n",
       "    test: Dataset({\n",
       "        features: ['filename', 'notes', 'classified', 'notes_character_count', 'token_count_notes', 'token_count_classified'],\n",
       "        num_rows: 1053\n",
       "    })\n",
       "})"
      ]
     },
     "execution_count": 18,
     "metadata": {},
     "output_type": "execute_result"
    }
   ],
   "source": [
    "dataset"
   ]
  },
  {
   "cell_type": "code",
   "execution_count": 19,
   "metadata": {
    "id": "1z4OOjlc8GjM"
   },
   "outputs": [],
   "source": [
    "def tokenize(prompt):\n",
    "    result = tokenizer(prompt)\n",
    "    result[\"labels\"] = result[\"input_ids\"].copy()\n",
    "    return result"
   ]
  },
  {
   "cell_type": "code",
   "execution_count": 23,
   "metadata": {
    "id": "S8NDa8UD8IzV"
   },
   "outputs": [],
   "source": [
    "def generate_and_tokenize_prompt(data_point):\n",
    "    full_prompt =f\"\"\"Classify the notes into below categories:\n",
    "                     'recipere', \n",
    "                     'investigations', \n",
    "                     'plan', \n",
    "                     'complaints',\n",
    "                     'history_of_previous_illness', \n",
    "                     'examination', \n",
    "                     'diagnoses',\n",
    "                      Output the classified data into json format\n",
    "\n",
    "\n",
    "### notes:\n",
    "{data_point[\"notes\"]}\n",
    "\n",
    "### Classified:\n",
    "{data_point[\"classified\"]}\n",
    "\"\"\"\n",
    "    return tokenize(full_prompt)"
   ]
  },
  {
   "cell_type": "code",
   "execution_count": 24,
   "metadata": {
    "id": "6Z5syuOK8Mfr"
   },
   "outputs": [],
   "source": [
    "train_dataset = dataset['train']\n",
    "test_dataset = dataset['test']"
   ]
  },
  {
   "cell_type": "code",
   "execution_count": 25,
   "metadata": {
    "id": "Dh7LA9Z28PAC"
   },
   "outputs": [
    {
     "name": "stderr",
     "output_type": "stream",
     "text": [
      "Map: 100%|██████████| 9468/9468 [00:34<00:00, 271.72 examples/s]\n",
      "Map: 100%|██████████| 1053/1053 [00:03<00:00, 275.46 examples/s]\n"
     ]
    }
   ],
   "source": [
    "tokenized_train_dataset = train_dataset.map(generate_and_tokenize_prompt)\n",
    "tokenized_val_dataset = test_dataset.map(generate_and_tokenize_prompt)"
   ]
  },
  {
   "cell_type": "code",
   "execution_count": 26,
   "metadata": {
    "id": "dzPoyFih8RhY"
   },
   "outputs": [
    {
     "name": "stdout",
     "output_type": "stream",
     "text": [
      "<s> Classify the notes into below categories:\n",
      "                     'recipere', \n",
      "                     'investigations', \n",
      "                     'plan', \n",
      "                     'complaints',\n",
      "                     'history_of_previous_illness', \n",
      "                     'examination', \n",
      "                     'diagnoses',\n",
      "                      Output the classified data into json format\n",
      "\n",
      "\n",
      "### notes:\n",
      "fluticasone 27.5g/dose nasal spray, dosage: 1, route: 106.0, qty: 1.0, duration: 7.0, dura_unit: 193.0, instructions: spray one(1) jet into each nostril twice(2) daily diclofenac 25mg injection 3ml, dosage: 2, route: 106.0, qty: 2.0, duration: 1.0, dura_unit: 193.0, instructions: take at once aceclofenac+ paracetamol + chlorzoxazone(100+500+500)mg tablets, dosage: 1, route: 106.0, qty: 10.0, duration: 5.0, dura_unit: 193.0, instructions: take one tablet twice daily dextromethorphan+guaifenesin syrup 100ml, dosage: 1, route: 106.0, qty: 1.0, duration: 5.0, dura_unit: 193.0, instructions: take 10ml three(3) times daily azithromycin 200mg/5ml suspension 15ml, dosage: 1, route: 106.0, qty: 3.0, duration: 3.0, dura_unit: 193.0, instructions: take one (1) tablet once (x1) daily chlorhexidine 5% solution 5ltr, dosage: 1, route: 106.0, qty: 1.0, duration: 7.0, dura_unit: 193.0, instructions: gargle & spit 10ml twice(2) daily levomenthol + chlorobutanol + pine oils + terpineol + thymol capsules, dosage: 1, route: 106.0, qty: 7.0, duration: 7.0, dura_unit: 193.0, instructions: take one(1) capsule once(1) daily montelukast+levocetirizine(10+5)mg tablets, dosage: 1, route: 106.0, qty: 14.0, duration: 14.0, dura_unit: 193.0, instructions: take one (1) tablet once (x1) daily cefuroxime 500mg tablets, dosage: 1, route: 106.0, qty: 10.0, duration: 5.0, dura_unit: 193.0, instructions: take one tablet twice daily\n",
      "stabkle no jacoldresp examnormal air entry not in distresssother systems normal\n",
      "chills\n",
      "eczema herpeticum\n",
      "\n",
      "### Classified:\n",
      "{'recipere': ['fluticasone 27.5g/dose nasal spray, dosage: 1, route: 106.0, qty: 1.0, duration: 7.0, dura_unit: 193.0, instructions: spray one(1) jet into each nostril twice(2) daily diclofenac 25mg injection 3ml, dosage: 2, route: 106.0, qty: 2.0, duration: 1.0, dura_unit: 193.0, instructions: take at once aceclofenac+ paracetamol + chlorzoxazone(100+500+500)mg tablets, dosage: 1, route: 106.0, qty: 10.0, duration: 5.0, dura_unit: 193.0, instructions: take one tablet twice daily dextromethorphan+guaifenesin syrup 100ml, dosage: 1, route: 106.0, qty: 1.0, duration: 5.0, dura_unit: 193.0, instructions: take 10ml three(3) times daily azithromycin 200mg/5ml suspension 15ml, dosage: 1, route: 106.0, qty: 3.0, duration: 3.0, dura_unit: 193.0, instructions: take one (1) tablet once (x1) daily chlorhexidine 5% solution 5ltr, dosage: 1, route: 106.0, qty: 1.0, duration: 7.0, dura_unit: 193.0, instructions: gargle & spit 10ml twice(2) daily levomenthol + chlorobutanol + pine oils + terpineol + thymol capsules, dosage: 1, route: 106.0, qty: 7.0, duration: 7.0, dura_unit: 193.0, instructions: take one(1) capsule once(1) daily montelukast+levocetirizine(10+5)mg tablets, dosage: 1, route: 106.0, qty: 14.0, duration: 14.0, dura_unit: 193.0, instructions: take one (1) tablet once (x1) daily cefuroxime 500mg tablets, dosage: 1, route: 106.0, qty: 10.0, duration: 5.0, dura_unit: 193.0, instructions: take one tablet twice daily'], 'examination': ['stabkle no jacoldresp examnormal air entry not in distresssother systems normal'], 'history_of_previous_illness': ['chills'], 'diagnoses': ['eczema herpeticum']}\n",
      "</s>\n"
     ]
    }
   ],
   "source": [
    "untokenized_text = tokenizer.decode(tokenized_train_dataset[1]['input_ids'])\n",
    "print(untokenized_text)"
   ]
  },
  {
   "cell_type": "code",
   "execution_count": 27,
   "metadata": {
    "id": "ZVKOr3R28TdT"
   },
   "outputs": [
    {
     "name": "stdout",
     "output_type": "stream",
     "text": [
      "10521\n"
     ]
    },
    {
     "data": {
      "image/png": "[encoded data removed]",
      "text/plain": [
       "<Figure size 1000x600 with 1 Axes>"
      ]
     },
     "metadata": {},
     "output_type": "display_data"
    }
   ],
   "source": [
    "import matplotlib.pyplot as plt\n",
    "\n",
    "def plot_data_lengths(tokenized_train_dataset, tokenized_val_dataset):\n",
    "    lengths = [len(x['input_ids']) for x in tokenized_train_dataset]\n",
    "    lengths += [len(x['input_ids']) for x in tokenized_val_dataset]\n",
    "    print(len(lengths))\n",
    "\n",
    "    # Plotting the histogram\n",
    "    plt.figure(figsize=(10, 6))\n",
    "    plt.hist(lengths, bins=20, alpha=0.7, color='blue')\n",
    "    plt.xlabel('Length of input_ids')\n",
    "    plt.ylabel('Frequency')\n",
    "    plt.title('Distribution of Lengths of input_ids')\n",
    "    plt.show()\n",
    "\n",
    "plot_data_lengths(tokenized_train_dataset, tokenized_val_dataset)"
   ]
  },
  {
   "cell_type": "code",
   "execution_count": 28,
   "metadata": {
    "id": "o2kSpeyf8V9f"
   },
   "outputs": [],
   "source": [
    "max_length = 2048 #1024 #20000 # This was an appropriate max length for my dataset\n",
    "\n",
    "# redefine the tokenize function and tokenizer\n",
    "\n",
    "tokenizer = AutoTokenizer.from_pretrained(\n",
    "    base_model_id,\n",
    "    padding_side=\"left\",\n",
    "    add_eos_token=True,\n",
    "    add_bos_token=True,\n",
    ")\n",
    "tokenizer.pad_token = tokenizer.eos_token\n",
    "\n",
    "\n",
    "def tokenize(prompt):\n",
    "    result = tokenizer(\n",
    "        prompt,\n",
    "        truncation=True,\n",
    "        max_length=max_length,\n",
    "        padding=\"max_length\",\n",
    "    )\n",
    "    result[\"labels\"] = result[\"input_ids\"].copy()\n",
    "    return result"
   ]
  },
  {
   "cell_type": "code",
   "execution_count": 29,
   "metadata": {
    "id": "9iHLKpo18ZAj"
   },
   "outputs": [
    {
     "name": "stderr",
     "output_type": "stream",
     "text": [
      "Map: 100%|██████████| 9468/9468 [00:39<00:00, 239.25 examples/s]\n",
      "Map: 100%|██████████| 1053/1053 [00:04<00:00, 235.49 examples/s]\n"
     ]
    }
   ],
   "source": [
    "tokenized_train_dataset = train_dataset.map(generate_and_tokenize_prompt)\n",
    "tokenized_val_dataset = test_dataset.map(generate_and_tokenize_prompt)"
   ]
  },
  {
   "cell_type": "code",
   "execution_count": 30,
   "metadata": {
    "id": "JkwNm1Md8bI6"
   },
   "outputs": [
    {
     "name": "stdout",
     "output_type": "stream",
     "text": [
      "</s></s></s></s></s></s></s></s></s></s></s></s></s></s></s></s></s></s></s></s></s></s></s></s></s></s></s></s></s></s></s></s></s></s></s></s></s></s></s></s></s></s></s></s></s></s></s></s></s></s></s></s></s></s></s></s></s></s></s></s></s></s></s></s></s></s></s></s></s></s></s></s></s></s></s></s></s></s></s></s></s></s></s></s></s></s></s></s></s></s></s></s></s></s></s></s></s></s></s></s></s></s></s></s></s></s></s></s></s></s></s></s></s></s></s></s></s></s></s></s></s></s></s></s></s></s></s></s></s></s></s></s></s></s></s></s></s></s></s></s></s></s></s></s></s></s></s></s></s></s></s></s></s></s></s></s></s></s></s></s></s></s></s></s></s></s></s></s></s></s></s></s></s></s></s></s></s></s></s></s></s></s></s></s></s></s></s></s></s></s></s></s></s></s></s></s></s></s></s></s></s></s></s></s></s></s></s></s></s></s></s></s></s></s></s></s></s></s></s></s></s></s></s></s></s></s></s></s></s></s></s></s></s></s></s></s></s></s></s></s></s></s></s></s></s></s></s></s></s></s></s></s></s></s></s></s></s></s></s></s></s></s></s></s></s></s></s></s></s></s></s></s></s></s></s></s></s></s></s></s></s></s></s></s></s></s></s></s></s></s></s></s></s></s></s></s></s></s></s></s></s></s></s></s></s></s></s></s></s></s></s></s></s></s></s></s></s></s></s></s></s></s></s></s></s></s></s></s></s></s></s></s></s></s></s></s></s></s></s></s></s></s></s></s></s></s></s></s></s></s></s></s></s></s></s></s></s></s></s></s></s></s></s></s></s></s></s></s></s></s></s></s></s></s></s></s></s></s></s></s></s></s></s></s></s></s></s></s></s></s></s></s></s></s></s></s></s></s></s></s></s></s></s></s></s></s></s></s></s></s></s></s></s></s></s></s></s></s></s></s></s></s></s></s></s></s></s></s></s></s></s></s></s></s></s></s></s></s></s></s></s></s></s></s></s></s></s></s></s></s></s></s></s></s></s></s></s></s></s></s></s></s></s></s></s></s></s></s></s></s></s></s></s></s></s></s></s></s></s></s></s></s></s></s></s></s></s></s></s></s></s></s></s></s></s></s></s></s></s></s></s></s></s></s></s></s></s></s></s></s></s></s></s></s></s></s></s></s></s><s> Classify the notes into below categories:\n",
      "                     'recipere', \n",
      "                     'investigations', \n",
      "                     'plan', \n",
      "                     'complaints',\n",
      "                     'history_of_previous_illness', \n",
      "                     'examination', \n",
      "                     'diagnoses',\n",
      "                      Output the classified data into json format\n",
      "\n",
      "\n",
      "### notes:\n",
      "fluticasone 27.5g/dose nasal spray, dosage: 1, route: 106.0, qty: 1.0, duration: 7.0, dura_unit: 193.0, instructions: spray one(1) jet into each nostril twice(2) daily diclofenac 25mg injection 3ml, dosage: 2, route: 106.0, qty: 2.0, duration: 1.0, dura_unit: 193.0, instructions: take at once aceclofenac+ paracetamol + chlorzoxazone(100+500+500)mg tablets, dosage: 1, route: 106.0, qty: 10.0, duration: 5.0, dura_unit: 193.0, instructions: take one tablet twice daily dextromethorphan+guaifenesin syrup 100ml, dosage: 1, route: 106.0, qty: 1.0, duration: 5.0, dura_unit: 193.0, instructions: take 10ml three(3) times daily azithromycin 200mg/5ml suspension 15ml, dosage: 1, route: 106.0, qty: 3.0, duration: 3.0, dura_unit: 193.0, instructions: take one (1) tablet once (x1) daily chlorhexidine 5% solution 5ltr, dosage: 1, route: 106.0, qty: 1.0, duration: 7.0, dura_unit: 193.0, instructions: gargle & spit 10ml twice(2) daily levomenthol + chlorobutanol + pine oils + terpineol + thymol capsules, dosage: 1, route: 106.0, qty: 7.0, duration: 7.0, dura_unit: 193.0, instructions: take one(1) capsule once(1) daily montelukast+levocetirizine(10+5)mg tablets, dosage: 1, route: 106.0, qty: 14.0, duration: 14.0, dura_unit: 193.0, instructions: take one (1) tablet once (x1) daily cefuroxime 500mg tablets, dosage: 1, route: 106.0, qty: 10.0, duration: 5.0, dura_unit: 193.0, instructions: take one tablet twice daily\n",
      "stabkle no jacoldresp examnormal air entry not in distresssother systems normal\n",
      "chills\n",
      "eczema herpeticum\n",
      "\n",
      "### Classified:\n",
      "{'recipere': ['fluticasone 27.5g/dose nasal spray, dosage: 1, route: 106.0, qty: 1.0, duration: 7.0, dura_unit: 193.0, instructions: spray one(1) jet into each nostril twice(2) daily diclofenac 25mg injection 3ml, dosage: 2, route: 106.0, qty: 2.0, duration: 1.0, dura_unit: 193.0, instructions: take at once aceclofenac+ paracetamol + chlorzoxazone(100+500+500)mg tablets, dosage: 1, route: 106.0, qty: 10.0, duration: 5.0, dura_unit: 193.0, instructions: take one tablet twice daily dextromethorphan+guaifenesin syrup 100ml, dosage: 1, route: 106.0, qty: 1.0, duration: 5.0, dura_unit: 193.0, instructions: take 10ml three(3) times daily azithromycin 200mg/5ml suspension 15ml, dosage: 1, route: 106.0, qty: 3.0, duration: 3.0, dura_unit: 193.0, instructions: take one (1) tablet once (x1) daily chlorhexidine 5% solution 5ltr, dosage: 1, route: 106.0, qty: 1.0, duration: 7.0, dura_unit: 193.0, instructions: gargle & spit 10ml twice(2) daily levomenthol + chlorobutanol + pine oils + terpineol + thymol capsules, dosage: 1, route: 106.0, qty: 7.0, duration: 7.0, dura_unit: 193.0, instructions: take one(1) capsule once(1) daily montelukast+levocetirizine(10+5)mg tablets, dosage: 1, route: 106.0, qty: 14.0, duration: 14.0, dura_unit: 193.0, instructions: take one (1) tablet once (x1) daily cefuroxime 500mg tablets, dosage: 1, route: 106.0, qty: 10.0, duration: 5.0, dura_unit: 193.0, instructions: take one tablet twice daily'], 'examination': ['stabkle no jacoldresp examnormal air entry not in distresssother systems normal'], 'history_of_previous_illness': ['chills'], 'diagnoses': ['eczema herpeticum']}\n",
      "</s>\n"
     ]
    }
   ],
   "source": [
    "untokenized_text = tokenizer.decode(tokenized_train_dataset[1]['input_ids'])\n",
    "print(untokenized_text)"
   ]
  },
  {
   "cell_type": "code",
   "execution_count": 31,
   "metadata": {
    "id": "TvIc2Zs08c6q"
   },
   "outputs": [
    {
     "name": "stdout",
     "output_type": "stream",
     "text": [
      "10521\n"
     ]
    },
    {
     "data": {
      "image/png": "[encoded data removed]",
      "text/plain": [
       "<Figure size 1000x600 with 1 Axes>"
      ]
     },
     "metadata": {},
     "output_type": "display_data"
    }
   ],
   "source": [
    "plot_data_lengths(tokenized_train_dataset, tokenized_val_dataset)"
   ]
  },
  {
   "cell_type": "code",
   "execution_count": 32,
   "metadata": {
    "id": "Nal8F2Kq8fOV"
   },
   "outputs": [
    {
     "name": "stdout",
     "output_type": "stream",
     "text": [
      "Notes: chlorhexidine 5% solution 5ltr, dosage: 1, route: 106.0, qty: 1.0, duration: 7.0, dura_unit: 193.0, instructions: gargle & spit 10ml twice(2) daily paracetamol tabs 500 mg, dosage: 16, route: 106.0, qty: 16.0, duration: 1.0, dura_unit: 193.0, instructions: take 1 tab three times daily dextromethorphan+phenylephrine+cetirizine syrup 100ml, dosage: 1, route: 106.0, qty: 1.0, duration: 1.0, dura_unit: 193.0, instructions: take 5mls twice daily salbutamol+bromohexine (2+4)mg/5ml syrup 100ml, dosage: 1, route: 106.0, qty: 1.0, duration: 3.0, dura_unit: 193.0, instructions: take 10ml three(3) times daily paracetamol 1g tablets, dosage: 1, route: 106.0, qty: 16.0, duration: 5.0, dura_unit: 193.0, instructions: take one(1) tablet three(3) times daily montelukast+levocetrizine (10+5)mg tablets, dosage: 1, route: 106.0, qty: 10.0, duration: 10.0, dura_unit: 193.0, instructions: take one (1) tablet once (x1) daily amoxicillin + clavulanic acid (500+125) mg tablets, dosage: 14, route: 106.0, qty: 14.0, duration: 1.0, dura_unit: 193.0, instructions: take 1 tab twice daily\n",
      "\n",
      "Classified: {'recipere': ['chlorhexidine 5% solution 5ltr, dosage: 1, route: 106.0, qty: 1.0, duration: 7.0, dura_unit: 193.0, instructions: gargle & spit 10ml twice(2) daily paracetamol tabs 500 mg, dosage: 16, route: 106.0, qty: 16.0, duration: 1.0, dura_unit: 193.0, instructions: take 1 tab three times daily dextromethorphan+phenylephrine+cetirizine syrup 100ml, dosage: 1, route: 106.0, qty: 1.0, duration: 1.0, dura_unit: 193.0, instructions: take 5mls twice daily salbutamol+bromohexine (2+4)mg/5ml syrup 100ml, dosage: 1, route: 106.0, qty: 1.0, duration: 3.0, dura_unit: 193.0, instructions: take 10ml three(3) times daily paracetamol 1g tablets, dosage: 1, route: 106.0, qty: 16.0, duration: 5.0, dura_unit: 193.0, instructions: take one(1) tablet three(3) times daily montelukast+levocetrizine (10+5)mg tablets, dosage: 1, route: 106.0, qty: 10.0, duration: 10.0, dura_unit: 193.0, instructions: take one (1) tablet once (x1) daily amoxicillin + clavulanic acid (500+125) mg tablets, dosage: 14, route: 106.0, qty: 14.0, duration: 1.0, dura_unit: 193.0, instructions: take 1 tab twice daily']}\n",
      "\n"
     ]
    }
   ],
   "source": [
    "print(\"Notes: \" + test_dataset[2]['notes'] + \"\\n\")\n",
    "print(\"Classified: \" + test_dataset[2]['classified'] + \"\\n\")"
   ]
  },
  {
   "cell_type": "code",
   "execution_count": 33,
   "metadata": {
    "id": "ewbsk71S8hUq"
   },
   "outputs": [
    {
     "name": "stderr",
     "output_type": "stream",
     "text": [
      "`low_cpu_mem_usage` was None, now set to True since model is quantized.\n"
     ]
    }
   ],
   "source": [
    "bnb_config = BitsAndBytesConfig(\n",
    "    load_in_4bit=True,\n",
    "    bnb_4bit_use_double_quant=True,\n",
    "    bnb_4bit_quant_type=\"nf4\",\n",
    "    bnb_4bit_compute_dtype=torch.bfloat16\n",
    ")\n",
    "\n",
    "model = AutoModelForCausalLM.from_pretrained(base_model_id, quantization_config=bnb_config)"
   ]
  },
  {
   "cell_type": "code",
   "execution_count": 34,
   "metadata": {
    "id": "kz56oBNe8joD"
   },
   "outputs": [],
   "source": [
    "# Apply the accelerator. You can comment this out to remove the accelerator.\n",
    "model = accelerator.prepare_model(model)"
   ]
  },
  {
   "cell_type": "code",
   "execution_count": 35,
   "metadata": {
    "id": "hDkvYgbG8lzW"
   },
   "outputs": [],
   "source": [
    "# Re-init the tokenizer so it doesn't add padding or eos token\n",
    "eval_tokenizer = AutoTokenizer.from_pretrained(\n",
    "    base_model_id,\n",
    "    add_bos_token=True,\n",
    ")"
   ]
  },
  {
   "cell_type": "code",
   "execution_count": 36,
   "metadata": {
    "id": "pk34HkAT8oQZ"
   },
   "outputs": [],
   "source": [
    "from peft import prepare_model_for_kbit_training\n",
    "\n",
    "model.gradient_checkpointing_enable()\n",
    "model = prepare_model_for_kbit_training(model)"
   ]
  },
  {
   "cell_type": "code",
   "execution_count": 37,
   "metadata": {
    "id": "y-eFXGhB8qJ-"
   },
   "outputs": [],
   "source": [
    "def print_trainable_parameters(model):\n",
    "    \"\"\"\n",
    "    Prints the number of trainable parameters in the model.\n",
    "    \"\"\"\n",
    "    trainable_params = 0\n",
    "    all_param = 0\n",
    "    for _, param in model.named_parameters():\n",
    "        all_param += param.numel()\n",
    "        if param.requires_grad:\n",
    "            trainable_params += param.numel()\n",
    "    print(\n",
    "        f\"trainable params: {trainable_params} || all params: {all_param} || trainable%: {100 * trainable_params / all_param}\"\n",
    "    )"
   ]
  },
  {
   "cell_type": "code",
   "execution_count": 38,
   "metadata": {
    "id": "kDf9AKOu8sMK"
   },
   "outputs": [
    {
     "name": "stdout",
     "output_type": "stream",
     "text": [
      "MistralForCausalLM(\n",
      "  (model): MistralModel(\n",
      "    (embed_tokens): Embedding(32000, 4096)\n",
      "    (layers): ModuleList(\n",
      "      (0-31): 32 x MistralDecoderLayer(\n",
      "        (self_attn): MistralSdpaAttention(\n",
      "          (q_proj): Linear4bit(in_features=4096, out_features=4096, bias=False)\n",
      "          (k_proj): Linear4bit(in_features=4096, out_features=1024, bias=False)\n",
      "          (v_proj): Linear4bit(in_features=4096, out_features=1024, bias=False)\n",
      "          (o_proj): Linear4bit(in_features=4096, out_features=4096, bias=False)\n",
      "          (rotary_emb): MistralRotaryEmbedding()\n",
      "        )\n",
      "        (mlp): MistralMLP(\n",
      "          (gate_proj): Linear4bit(in_features=4096, out_features=14336, bias=False)\n",
      "          (up_proj): Linear4bit(in_features=4096, out_features=14336, bias=False)\n",
      "          (down_proj): Linear4bit(in_features=14336, out_features=4096, bias=False)\n",
      "          (act_fn): SiLU()\n",
      "        )\n",
      "        (input_layernorm): MistralRMSNorm()\n",
      "        (post_attention_layernorm): MistralRMSNorm()\n",
      "      )\n",
      "    )\n",
      "    (norm): MistralRMSNorm()\n",
      "  )\n",
      "  (lm_head): Linear(in_features=4096, out_features=32000, bias=False)\n",
      ")\n"
     ]
    }
   ],
   "source": [
    "print(model)"
   ]
  },
  {
   "cell_type": "code",
   "execution_count": 39,
   "metadata": {
    "id": "LGPI9kB08t8r"
   },
   "outputs": [
    {
     "name": "stdout",
     "output_type": "stream",
     "text": [
      "trainable params: 21260288 || all params: 3773331456 || trainable%: 0.5634354746703705\n"
     ]
    }
   ],
   "source": [
    "from peft import LoraConfig, get_peft_model\n",
    "\n",
    "config = LoraConfig(\n",
    "    r=8,\n",
    "    lora_alpha=16,\n",
    "    target_modules=[\n",
    "        \"q_proj\",\n",
    "        \"k_proj\",\n",
    "        \"v_proj\",\n",
    "        \"o_proj\",\n",
    "        \"gate_proj\",\n",
    "        \"up_proj\",\n",
    "        \"down_proj\",\n",
    "        \"lm_head\",\n",
    "    ],\n",
    "    bias=\"none\",\n",
    "    lora_dropout=0.05,  # Conventional\n",
    "    task_type=\"CAUSAL_LM\",\n",
    ")\n",
    "\n",
    "model = get_peft_model(model, config)\n",
    "print_trainable_parameters(model)\n",
    "\n",
    "# Apply the accelerator. You can comment this out to remove the accelerator.\n",
    "model = accelerator.prepare_model(model)"
   ]
  },
  {
   "cell_type": "code",
   "execution_count": 40,
   "metadata": {
    "id": "W7Q-bvOy8we7"
   },
   "outputs": [
    {
     "name": "stdout",
     "output_type": "stream",
     "text": [
      "PeftModelForCausalLM(\n",
      "  (base_model): LoraModel(\n",
      "    (model): MistralForCausalLM(\n",
      "      (model): MistralModel(\n",
      "        (embed_tokens): Embedding(32000, 4096)\n",
      "        (layers): ModuleList(\n",
      "          (0-31): 32 x MistralDecoderLayer(\n",
      "            (self_attn): MistralSdpaAttention(\n",
      "              (q_proj): lora.Linear4bit(\n",
      "                (base_layer): Linear4bit(in_features=4096, out_features=4096, bias=False)\n",
      "                (lora_dropout): ModuleDict(\n",
      "                  (default): Dropout(p=0.05, inplace=False)\n",
      "                )\n",
      "                (lora_A): ModuleDict(\n",
      "                  (default): Linear(in_features=4096, out_features=8, bias=False)\n",
      "                )\n",
      "                (lora_B): ModuleDict(\n",
      "                  (default): Linear(in_features=8, out_features=4096, bias=False)\n",
      "                )\n",
      "                (lora_embedding_A): ParameterDict()\n",
      "                (lora_embedding_B): ParameterDict()\n",
      "              )\n",
      "              (k_proj): lora.Linear4bit(\n",
      "                (base_layer): Linear4bit(in_features=4096, out_features=1024, bias=False)\n",
      "                (lora_dropout): ModuleDict(\n",
      "                  (default): Dropout(p=0.05, inplace=False)\n",
      "                )\n",
      "                (lora_A): ModuleDict(\n",
      "                  (default): Linear(in_features=4096, out_features=8, bias=False)\n",
      "                )\n",
      "                (lora_B): ModuleDict(\n",
      "                  (default): Linear(in_features=8, out_features=1024, bias=False)\n",
      "                )\n",
      "                (lora_embedding_A): ParameterDict()\n",
      "                (lora_embedding_B): ParameterDict()\n",
      "              )\n",
      "              (v_proj): lora.Linear4bit(\n",
      "                (base_layer): Linear4bit(in_features=4096, out_features=1024, bias=False)\n",
      "                (lora_dropout): ModuleDict(\n",
      "                  (default): Dropout(p=0.05, inplace=False)\n",
      "                )\n",
      "                (lora_A): ModuleDict(\n",
      "                  (default): Linear(in_features=4096, out_features=8, bias=False)\n",
      "                )\n",
      "                (lora_B): ModuleDict(\n",
      "                  (default): Linear(in_features=8, out_features=1024, bias=False)\n",
      "                )\n",
      "                (lora_embedding_A): ParameterDict()\n",
      "                (lora_embedding_B): ParameterDict()\n",
      "              )\n",
      "              (o_proj): lora.Linear4bit(\n",
      "                (base_layer): Linear4bit(in_features=4096, out_features=4096, bias=False)\n",
      "                (lora_dropout): ModuleDict(\n",
      "                  (default): Dropout(p=0.05, inplace=False)\n",
      "                )\n",
      "                (lora_A): ModuleDict(\n",
      "                  (default): Linear(in_features=4096, out_features=8, bias=False)\n",
      "                )\n",
      "                (lora_B): ModuleDict(\n",
      "                  (default): Linear(in_features=8, out_features=4096, bias=False)\n",
      "                )\n",
      "                (lora_embedding_A): ParameterDict()\n",
      "                (lora_embedding_B): ParameterDict()\n",
      "              )\n",
      "              (rotary_emb): MistralRotaryEmbedding()\n",
      "            )\n",
      "            (mlp): MistralMLP(\n",
      "              (gate_proj): lora.Linear4bit(\n",
      "                (base_layer): Linear4bit(in_features=4096, out_features=14336, bias=False)\n",
      "                (lora_dropout): ModuleDict(\n",
      "                  (default): Dropout(p=0.05, inplace=False)\n",
      "                )\n",
      "                (lora_A): ModuleDict(\n",
      "                  (default): Linear(in_features=4096, out_features=8, bias=False)\n",
      "                )\n",
      "                (lora_B): ModuleDict(\n",
      "                  (default): Linear(in_features=8, out_features=14336, bias=False)\n",
      "                )\n",
      "                (lora_embedding_A): ParameterDict()\n",
      "                (lora_embedding_B): ParameterDict()\n",
      "              )\n",
      "              (up_proj): lora.Linear4bit(\n",
      "                (base_layer): Linear4bit(in_features=4096, out_features=14336, bias=False)\n",
      "                (lora_dropout): ModuleDict(\n",
      "                  (default): Dropout(p=0.05, inplace=False)\n",
      "                )\n",
      "                (lora_A): ModuleDict(\n",
      "                  (default): Linear(in_features=4096, out_features=8, bias=False)\n",
      "                )\n",
      "                (lora_B): ModuleDict(\n",
      "                  (default): Linear(in_features=8, out_features=14336, bias=False)\n",
      "                )\n",
      "                (lora_embedding_A): ParameterDict()\n",
      "                (lora_embedding_B): ParameterDict()\n",
      "              )\n",
      "              (down_proj): lora.Linear4bit(\n",
      "                (base_layer): Linear4bit(in_features=14336, out_features=4096, bias=False)\n",
      "                (lora_dropout): ModuleDict(\n",
      "                  (default): Dropout(p=0.05, inplace=False)\n",
      "                )\n",
      "                (lora_A): ModuleDict(\n",
      "                  (default): Linear(in_features=14336, out_features=8, bias=False)\n",
      "                )\n",
      "                (lora_B): ModuleDict(\n",
      "                  (default): Linear(in_features=8, out_features=4096, bias=False)\n",
      "                )\n",
      "                (lora_embedding_A): ParameterDict()\n",
      "                (lora_embedding_B): ParameterDict()\n",
      "              )\n",
      "              (act_fn): SiLU()\n",
      "            )\n",
      "            (input_layernorm): MistralRMSNorm()\n",
      "            (post_attention_layernorm): MistralRMSNorm()\n",
      "          )\n",
      "        )\n",
      "        (norm): MistralRMSNorm()\n",
      "      )\n",
      "      (lm_head): lora.Linear(\n",
      "        (base_layer): Linear(in_features=4096, out_features=32000, bias=False)\n",
      "        (lora_dropout): ModuleDict(\n",
      "          (default): Dropout(p=0.05, inplace=False)\n",
      "        )\n",
      "        (lora_A): ModuleDict(\n",
      "          (default): Linear(in_features=4096, out_features=8, bias=False)\n",
      "        )\n",
      "        (lora_B): ModuleDict(\n",
      "          (default): Linear(in_features=8, out_features=32000, bias=False)\n",
      "        )\n",
      "        (lora_embedding_A): ParameterDict()\n",
      "        (lora_embedding_B): ParameterDict()\n",
      "      )\n",
      "    )\n",
      "  )\n",
      ")\n"
     ]
    }
   ],
   "source": [
    "print(model)"
   ]
  },
  {
   "cell_type": "code",
   "execution_count": 38,
   "metadata": {},
   "outputs": [],
   "source": [
    "#!pip install wandb"
   ]
  },
  {
   "cell_type": "code",
   "execution_count": 41,
   "metadata": {
    "id": "g4SgGPlQ8yV6"
   },
   "outputs": [
    {
     "name": "stderr",
     "output_type": "stream",
     "text": [
      "Failed to detect the name of this notebook, you can set it manually with the WANDB_NOTEBOOK_NAME environment variable to enable code saving.\n",
      "\u001b[34m\u001b[1mwandb\u001b[0m: Currently logged in as: \u001b[33mavijit2005in\u001b[0m. Use \u001b[1m`wandb login --relogin`\u001b[0m to force relogin\n"
     ]
    },
    {
     "data": {
      "text/plain": [
       "True"
      ]
     },
     "execution_count": 41,
     "metadata": {},
     "output_type": "execute_result"
    }
   ],
   "source": [
    "import wandb, os\n",
    "wandb.login()"
   ]
  },
  {
   "cell_type": "code",
   "execution_count": 42,
   "metadata": {
    "id": "Pf9p6wG980fb"
   },
   "outputs": [],
   "source": [
    "wandb_project = \"biomistral-finetune-identifier-shrishti-chunked\"\n",
    "if len(wandb_project) > 0:\n",
    "    os.environ[\"WANDB_PROJECT\"] = wandb_project"
   ]
  },
  {
   "cell_type": "code",
   "execution_count": 43,
   "metadata": {
    "id": "4F-T8fYy82Y0"
   },
   "outputs": [],
   "source": [
    "if torch.cuda.device_count() > 1: # If more than 1 GPU\n",
    "    model.is_parallelizable = True\n",
    "    model.model_parallel = True"
   ]
  },
  {
   "cell_type": "code",
   "execution_count": null,
   "metadata": {},
   "outputs": [],
   "source": [
    "'''\n",
    "from transformers import TrainingArguments\n",
    "\n",
    "project = \"snp-finetune-classifier-2024_130624_v2\"\n",
    "base_model_name = \"biomistral\"\n",
    "run_name = base_model_name + \"-\" + project\n",
    "output_dir = \"./\" + run_name\n",
    "\n",
    "tokenizer.pad_token = tokenizer.eos_token\n",
    "\n",
    "training_arguments = TrainingArguments(\n",
    "    output_dir=output_dir,\n",
    "    per_device_train_batch_size=2,\n",
    "    gradient_accumulation_steps=4, # Increase, if still giving OOM error\n",
    "    gradient_checkpointing=True,\n",
    "    optim=\"paged_adamw_8bit\",\n",
    "    max_steps=1000,\n",
    "    save_steps=500,\n",
    "    logging_steps=200,\n",
    "    learning_rate=2.5e-5,\n",
    "    fp16=True, # Enable fp16, bf16 only if your gfx card supports it\n",
    "    evaluation_strategy=\"steps\",\n",
    "    max_grad_norm=0.3,\n",
    "    num_train_epochs=5.0,\n",
    "    weight_decay=0.001,\n",
    "    warmup_steps=50,\n",
    "    lr_scheduler_type=\"linear\",\n",
    "    run_name=run_name,\n",
    "    report_to='wandb',\n",
    ")\n",
    "'''"
   ]
  },
  {
   "cell_type": "code",
   "execution_count": null,
   "metadata": {},
   "outputs": [],
   "source": [
    "'''\n",
    "from trl import SFTTrainer\n",
    "\n",
    "trainer = SFTTrainer(\n",
    "    model=model,\n",
    "    train_dataset=tokenized_train_dataset,#tokenized_train_dataset,\n",
    "    eval_dataset=tokenized_val_dataset, # remove you have low VRAM and getting OOM errors\n",
    "    peft_config=peft_config,\n",
    "    #dataset_text_field=\"notes\",\n",
    "    max_seq_length=2048, # depends on your dataset\n",
    "    #tokenizer=tokenizer,\n",
    "    args=training_arguments,\n",
    "    formatting_func=formatting_prompts_func,\n",
    "    data_collator=collator,\n",
    "    #packing=False,\n",
    ")\n",
    "'''"
   ]
  },
  {
   "cell_type": "code",
   "execution_count": 45,
   "metadata": {},
   "outputs": [],
   "source": [
    "#trainer.train()"
   ]
  },
  {
   "cell_type": "code",
   "execution_count": 44,
   "metadata": {},
   "outputs": [
    {
     "data": {
      "text/plain": [
       "'/home/jupyter/finetune_LLM'"
      ]
     },
     "execution_count": 44,
     "metadata": {},
     "output_type": "execute_result"
    }
   ],
   "source": [
    "os.getcwd()"
   ]
  },
  {
   "cell_type": "code",
   "execution_count": 45,
   "metadata": {
    "id": "zhsGI0wq84ZU"
   },
   "outputs": [
    {
     "name": "stderr",
     "output_type": "stream",
     "text": [
      "/opt/conda/envs/python39/lib/python3.10/site-packages/transformers/training_args.py:1494: FutureWarning: `evaluation_strategy` is deprecated and will be removed in version 4.46 of 🤗 Transformers. Use `eval_strategy` instead\n",
      "  warnings.warn(\n",
      "max_steps is given, it will override any value given in num_train_epochs\n"
     ]
    }
   ],
   "source": [
    "import transformers\n",
    "from datetime import datetime\n",
    "\n",
    "project = \"snp-finetune-shrishti-classifier-2024_030724_v1\"\n",
    "base_model_name = \"biomistral\"\n",
    "run_name = base_model_name + \"-\" + project\n",
    "output_dir = \"./finetuned_LLM/\" + run_name\n",
    "\n",
    "tokenizer.pad_token = tokenizer.eos_token\n",
    "\n",
    "trainer = transformers.Trainer(\n",
    "    model=model,\n",
    "    train_dataset=tokenized_train_dataset,\n",
    "    eval_dataset=tokenized_val_dataset,\n",
    "    args=transformers.TrainingArguments(\n",
    "        output_dir=output_dir,\n",
    "        warmup_steps=5,\n",
    "        per_device_train_batch_size=2,\n",
    "        gradient_checkpointing=True,\n",
    "        gradient_accumulation_steps=4,\n",
    "        max_steps=1000,\n",
    "        learning_rate=2.5e-5, # Want about 10x smaller than the Mistral learning rate\n",
    "        logging_steps=100, #50,\n",
    "        bf16=True,\n",
    "        optim=\"paged_adamw_8bit\",\n",
    "        logging_dir=\"./logs\",        # Directory for storing logs\n",
    "        save_strategy=\"steps\",       # Save the model checkpoint every logging step\n",
    "        save_steps=500, #50,                # Save checkpoints every 50 steps\n",
    "        evaluation_strategy=\"steps\", # Evaluate the model every logging step\n",
    "        eval_steps=500, #50,               # Evaluate and save checkpoints every 50 steps\n",
    "        do_eval=True,                # Perform evaluation at the end of training\n",
    "        report_to=\"wandb\",           # Comment this out if you don't want to use weights & baises\n",
    "        gradient_checkpointing_kwargs={'use_reentrant': True},\n",
    "        run_name=f\"{run_name}-{datetime.now().strftime('%Y-%m-%d-%H-%M')}\"          # Name of the W&B run (optional)\n",
    "    ),\n",
    "    data_collator=transformers.DataCollatorForLanguageModeling(tokenizer, mlm=False),\n",
    ")"
   ]
  },
  {
   "cell_type": "code",
   "execution_count": 46,
   "metadata": {},
   "outputs": [
    {
     "data": {
      "text/html": [
       "Changes to your `wandb` environment variables will be ignored because your `wandb` session has already started. For more information on how to modify your settings with `wandb.init()` arguments, please refer to <a href='https://wandb.me/wandb-init' target=\"_blank\">the W&B docs</a>."
      ],
      "text/plain": [
       "<IPython.core.display.HTML object>"
      ]
     },
     "metadata": {},
     "output_type": "display_data"
    },
    {
     "data": {
      "text/html": [
       "Tracking run with wandb version 0.17.3"
      ],
      "text/plain": [
       "<IPython.core.display.HTML object>"
      ]
     },
     "metadata": {},
     "output_type": "display_data"
    },
    {
     "data": {
      "text/html": [
       "Run data is saved locally in <code>/home/jupyter/finetune_LLM/wandb/run-20240703_043516-6kriks6h</code>"
      ],
      "text/plain": [
       "<IPython.core.display.HTML object>"
      ]
     },
     "metadata": {},
     "output_type": "display_data"
    },
    {
     "data": {
      "text/html": [
       "Syncing run <strong><a href='https://wandb.ai/avijit2005in/biomistral-finetune-identifier-shrishti-chunked/runs/6kriks6h' target=\"_blank\">biomistral-snp-finetune-shrishti-classifier-2024_030724_v1-2024-07-03-04-34</a></strong> to <a href='https://wandb.ai/avijit2005in/biomistral-finetune-identifier-shrishti-chunked' target=\"_blank\">Weights & Biases</a> (<a href='https://wandb.me/run' target=\"_blank\">docs</a>)<br/>"
      ],
      "text/plain": [
       "<IPython.core.display.HTML object>"
      ]
     },
     "metadata": {},
     "output_type": "display_data"
    },
    {
     "data": {
      "text/html": [
       " View project at <a href='https://wandb.ai/avijit2005in/biomistral-finetune-identifier-shrishti-chunked' target=\"_blank\">https://wandb.ai/avijit2005in/biomistral-finetune-identifier-shrishti-chunked</a>"
      ],
      "text/plain": [
       "<IPython.core.display.HTML object>"
      ]
     },
     "metadata": {},
     "output_type": "display_data"
    },
    {
     "data": {
      "text/html": [
       " View run at <a href='https://wandb.ai/avijit2005in/biomistral-finetune-identifier-shrishti-chunked/runs/6kriks6h' target=\"_blank\">https://wandb.ai/avijit2005in/biomistral-finetune-identifier-shrishti-chunked/runs/6kriks6h</a>"
      ],
      "text/plain": [
       "<IPython.core.display.HTML object>"
      ]
     },
     "metadata": {},
     "output_type": "display_data"
    },
    {
     "data": {
      "text/html": [
       "\n",
       "    <div>\n",
       "      \n",
       "      <progress value='1000' max='1000' style='width:300px; height:20px; vertical-align: middle;'></progress>\n",
       "      [1000/1000 2:43:46, Epoch 0/1]\n",
       "    </div>\n",
       "    <table border=\"1\" class=\"dataframe\">\n",
       "  <thead>\n",
       " <tr style=\"text-align: left;\">\n",
       "      <th>Step</th>\n",
       "      <th>Training Loss</th>\n",
       "      <th>Validation Loss</th>\n",
       "    </tr>\n",
       "  </thead>\n",
       "  <tbody>\n",
       "    <tr>\n",
       "      <td>500</td>\n",
       "      <td>0.271900</td>\n",
       "      <td>0.278630</td>\n",
       "    </tr>\n",
       "    <tr>\n",
       "      <td>1000</td>\n",
       "      <td>0.256200</td>\n",
       "      <td>0.262070</td>\n",
       "    </tr>\n",
       "  </tbody>\n",
       "</table><p>"
      ],
      "text/plain": [
       "<IPython.core.display.HTML object>"
      ]
     },
     "metadata": {},
     "output_type": "display_data"
    },
    {
     "name": "stderr",
     "output_type": "stream",
     "text": [
      "/opt/conda/envs/python39/lib/python3.10/site-packages/peft/utils/save_and_load.py:180: UserWarning: Setting `save_embedding_layers` to `True` as embedding layers found in `target_modules`.\n",
      "  warnings.warn(\"Setting `save_embedding_layers` to `True` as embedding layers found in `target_modules`.\")\n",
      "/opt/conda/envs/python39/lib/python3.10/site-packages/peft/utils/save_and_load.py:180: UserWarning: Setting `save_embedding_layers` to `True` as embedding layers found in `target_modules`.\n",
      "  warnings.warn(\"Setting `save_embedding_layers` to `True` as embedding layers found in `target_modules`.\")\n"
     ]
    },
    {
     "data": {
      "text/plain": [
       "TrainOutput(global_step=1000, training_loss=0.31416779136657713, metrics={'train_runtime': 9858.779, 'train_samples_per_second': 0.811, 'train_steps_per_second': 0.101, 'total_flos': 7.01096301428736e+17, 'train_loss': 0.31416779136657713, 'epoch': 0.8449514152936206})"
      ]
     },
     "execution_count": 46,
     "metadata": {},
     "output_type": "execute_result"
    }
   ],
   "source": [
    "model.config.use_cache = False  # silence the warnings. Please re-enable for inference!\n",
    "trainer.train()"
   ]
  },
  {
   "cell_type": "code",
   "execution_count": null,
   "metadata": {},
   "outputs": [],
   "source": []
  },
  {
   "cell_type": "code",
   "execution_count": 47,
   "metadata": {
    "id": "4tPXvNNT868_"
   },
   "outputs": [],
   "source": [
    "import torch\n",
    "from transformers import AutoTokenizer, AutoModelForCausalLM, BitsAndBytesConfig\n",
    "\n",
    "base_model_id = \"BioMistral/BioMistral-7B\"\n",
    "bnb_config = BitsAndBytesConfig(\n",
    "    load_in_4bit=True,\n",
    "    bnb_4bit_use_double_quant=True,\n",
    "    bnb_4bit_quant_type=\"nf4\",\n",
    "    bnb_4bit_compute_dtype=torch.bfloat16\n",
    ")\n",
    "\n",
    "base_model = AutoModelForCausalLM.from_pretrained(\n",
    "    base_model_id,  # Mistral, same as before\n",
    "    quantization_config=bnb_config,  # Same quantization config as before\n",
    "    device_map=\"auto\",\n",
    "    trust_remote_code=True,\n",
    ")\n",
    "\n",
    "eval_tokenizer = AutoTokenizer.from_pretrained(\n",
    "    base_model_id,\n",
    "    add_bos_token=True,\n",
    "    trust_remote_code=True,\n",
    ")"
   ]
  },
  {
   "cell_type": "code",
   "execution_count": 50,
   "metadata": {},
   "outputs": [
    {
     "data": {
      "text/plain": [
       "'/home/jupyter/finetune_LLM'"
      ]
     },
     "execution_count": 50,
     "metadata": {},
     "output_type": "execute_result"
    }
   ],
   "source": [
    "os.getcwd()"
   ]
  },
  {
   "cell_type": "code",
   "execution_count": 51,
   "metadata": {
    "id": "4ZTjeH3b89G6"
   },
   "outputs": [],
   "source": [
    "from peft import PeftModel\n",
    "\n",
    "ft_model = PeftModel.from_pretrained(base_model, \"./finetuned_LLMbiomistral-snp-finetune-shrishti-classifier-2024_030724_v1/checkpoint-1000\") #PeftModel.from_pretrained(base_model, \"biomistral-snp-finetune-classifier-2024/checkpoint-250\")"
   ]
  },
  {
   "cell_type": "code",
   "execution_count": 52,
   "metadata": {
    "id": "DPglDMaO8_BM"
   },
   "outputs": [
    {
     "data": {
      "text/plain": [
       "DatasetDict({\n",
       "    train: Dataset({\n",
       "        features: ['filename', 'notes', 'classified', 'notes_character_count', 'token_count_notes', 'token_count_classified'],\n",
       "        num_rows: 9468\n",
       "    })\n",
       "    test: Dataset({\n",
       "        features: ['filename', 'notes', 'classified', 'notes_character_count', 'token_count_notes', 'token_count_classified'],\n",
       "        num_rows: 1053\n",
       "    })\n",
       "})"
      ]
     },
     "execution_count": 52,
     "metadata": {},
     "output_type": "execute_result"
    }
   ],
   "source": [
    "dataset"
   ]
  },
  {
   "cell_type": "code",
   "execution_count": 53,
   "metadata": {
    "id": "LNFFSm_c9A5k"
   },
   "outputs": [
    {
     "name": "stdout",
     "output_type": "stream",
     "text": [
      "Classify the notes into below categories:\n",
      "                   'recipere', \n",
      "                   'investigations', \n",
      "                   'plan', \n",
      "                   'complaints',\n",
      "                   'history_of_previous_illness', \n",
      "                   'examination', \n",
      "                   'diagnoses',\n",
      "                    Output the classified data into json format\n",
      "\n",
      "\n",
      "### notes:\n",
      "paracetamol injection 10ml, dosage: 1, route: 107.0, qty: 1.0, duration: 1.0, dura_unit: 197.0, instructions: administer iv 1g stat nifedipine sr 20mg tablets, dosage: 40mg, route: 106.0, qty: 2.0, duration: 1.0, dura_unit: 197.0, instructions: take at once dextrose+sodium chloride (5+0.9)% solution 500ml, dosage: 1l, route: 107.0, qty: 2.0, duration: 1.0, dura_unit: 197.0, instructions: administer iv 1l stat chlorzoxazone 500mg tablets, dosage: 2, route: 106.0, qty: 30.0, duration: 5.0, dura_unit: 193.0, instructions: take two(2) tablets three (3)times daily atenolol 50mg tablets, dosage: 1, route: 106.0, qty: 30.0, duration: 1.0, dura_unit: 195.0, instructions: take one(1) tablet once (x1) daily (continue & refill until the doctor advices otherwise) cefixime 200mg tablets, dosage: 1, route: 106.0, qty: 10.0, duration: 5.0, dura_unit: 193.0, instructions: take one(1) tablet two(2) times daily for 5 days (start tomorrow morning) losartan+amlodipine (50+5)mg tablets, dosage: 1, route: 106.0, qty: 30.0, duration: 1.0, dura_unit: 195.0, instructions: take one(1) tablet once (x1) daily (continue & refill until the doctor advices otherwise) hyoscine bromide 20mg/1ml injection, dosage: 40mg, route: 107.0, qty: 2.0, duration: 1.0, dura_unit: 197.0, instructions: administer iv 40mg stat\n",
      "cetrizine 5mg/5ml syrup 30ml, dosage: 1, route: 106.0, qty: 1.0, duration: 1.0, dura_unit: 194.0, instructions: take 7.5mls at night paracetamol tabs 500 mg, dosage: 500, route: 106.0, qty: 1.0, duration: 1.0, dura_unit: 193.0, instructions: stat terbutaline+ambroxol+guaifensine syrup, dosage: 1, route: 106.0, qty: 1.0, duration: 5.0, dura_unit: 193.0, instructions: take 7.5mls thrice daily ibuprofen+paracetamol (125+100)mg/5ml suspension 100ml, dosage: 1, route: 106.0, qty: 1.0, duration: 5.0, dura_unit: 193.0, instructions: take 7.5mls thrice daily amoxycillin + clavulanic acid (600+42.9)mg/5ml suspension, dosage: 1, route: 106.0, qty: 1.0, duration: 1.0, dura_unit: 194.0, instructions: take 5mls twice daily\n",
      "\n",
      "### Classified:\n",
      "\n"
     ]
    }
   ],
   "source": [
    "eval_prompt = f\"\"\"Classify the notes into below categories:\n",
    "                   'recipere', \n",
    "                   'investigations', \n",
    "                   'plan', \n",
    "                   'complaints',\n",
    "                   'history_of_previous_illness', \n",
    "                   'examination', \n",
    "                   'diagnoses',\n",
    "                    Output the classified data into json format\n",
    "\n",
    "\n",
    "### notes:\n",
    "{dataset[\"test\"][\"notes\"][1]}\n",
    "\n",
    "### Classified:\n",
    "\"\"\"\n",
    "print(eval_prompt)"
   ]
  },
  {
   "cell_type": "code",
   "execution_count": 54,
   "metadata": {
    "id": "tfEwlTRr9Gr8"
   },
   "outputs": [
    {
     "data": {
      "text/plain": [
       "\"{'recipere': ['paracetamol injection 10ml, dosage: 1, route: 107.0, qty: 1.0, duration: 1.0, dura_unit: 197.0, instructions: administer iv 1g stat nifedipine sr 20mg tablets, dosage: 40mg, route: 106.0, qty: 2.0, duration: 1.0, dura_unit: 197.0, instructions: take at once dextrose+sodium chloride (5+0.9)% solution 500ml, dosage: 1l, route: 107.0, qty: 2.0, duration: 1.0, dura_unit: 197.0, instructions: administer iv 1l stat chlorzoxazone 500mg tablets, dosage: 2, route: 106.0, qty: 30.0, duration: 5.0, dura_unit: 193.0, instructions: take two(2) tablets three (3)times daily atenolol 50mg tablets, dosage: 1, route: 106.0, qty: 30.0, duration: 1.0, dura_unit: 195.0, instructions: take one(1) tablet once (x1) daily (continue & refill until the doctor advices otherwise) cefixime 200mg tablets, dosage: 1, route: 106.0, qty: 10.0, duration: 5.0, dura_unit: 193.0, instructions: take one(1) tablet two(2) times daily for 5 days (start tomorrow morning) losartan+amlodipine (50+5)mg tablets, dosage: 1, route: 106.0, qty: 30.0, duration: 1.0, dura_unit: 195.0, instructions: take one(1) tablet once (x1) daily (continue & refill until the doctor advices otherwise) hyoscine bromide 20mg/1ml injection, dosage: 40mg, route: 107.0, qty: 2.0, duration: 1.0, dura_unit: 197.0, instructions: administer iv 40mg stat', 'cetrizine 5mg/5ml syrup 30ml, dosage: 1, route: 106.0, qty: 1.0, duration: 1.0, dura_unit: 194.0, instructions: take 7.5mls at night paracetamol tabs 500 mg, dosage: 500, route: 106.0, qty: 1.0, duration: 1.0, dura_unit: 193.0, instructions: stat terbutaline+ambroxol+guaifensine syrup, dosage: 1, route: 106.0, qty: 1.0, duration: 5.0, dura_unit: 193.0, instructions: take 7.5mls thrice daily ibuprofen+paracetamol (125+100)mg/5ml suspension 100ml, dosage: 1, route: 106.0, qty: 1.0, duration: 5.0, dura_unit: 193.0, instructions: take 7.5mls thrice daily amoxycillin + clavulanic acid (600+42.9)mg/5ml suspension, dosage: 1, route: 106.0, qty: 1.0, duration: 1.0, dura_unit: 194.0, instructions: take 5mls twice daily']}\""
      ]
     },
     "execution_count": 54,
     "metadata": {},
     "output_type": "execute_result"
    }
   ],
   "source": [
    "dataset[\"test\"][\"classified\"][1]"
   ]
  },
  {
   "cell_type": "code",
   "execution_count": 55,
   "metadata": {
    "id": "EesRQqRU9KdG"
   },
   "outputs": [
    {
     "name": "stderr",
     "output_type": "stream",
     "text": [
      "Setting `pad_token_id` to `eos_token_id`:2 for open-end generation.\n"
     ]
    },
    {
     "name": "stdout",
     "output_type": "stream",
     "text": [
      "Classify the notes into below categories:\n",
      "                   'recipere', \n",
      "                   'investigations', \n",
      "                   'plan', \n",
      "                   'complaints',\n",
      "                   'history_of_previous_illness', \n",
      "                   'examination', \n",
      "                   'diagnoses',\n",
      "                    Output the classified data into json format\n",
      "\n",
      "\n",
      "### notes:\n",
      "paracetamol injection 10ml, dosage: 1, route: 107.0, qty: 1.0, duration: 1.0, dura_unit: 197.0, instructions: administer iv 1g stat nifedipine sr 20mg tablets, dosage: 40mg, route: 106.0, qty: 2.0, duration: 1.0, dura_unit: 197.0, instructions: take at once dextrose+sodium chloride (5+0.9)% solution 500ml, dosage: 1l, route: 107.0, qty: 2.0, duration: 1.0, dura_unit: 197.0, instructions: administer iv 1l stat chlorzoxazone 500mg tablets, dosage: 2, route: 106.0, qty: 30.0, duration: 5.0, dura_unit: 193.0, instructions: take two(2) tablets three (3)times daily atenolol 50mg tablets, dosage: 1, route: 106.0, qty: 30.0, duration: 1.0, dura_unit: 195.0, instructions: take one(1) tablet once (x1) daily (continue & refill until the doctor advices otherwise) cefixime 200mg tablets, dosage: 1, route: 106.0, qty: 10.0, duration: 5.0, dura_unit: 193.0, instructions: take one(1) tablet two(2) times daily for 5 days (start tomorrow morning) losartan+amlodipine (50+5)mg tablets, dosage: 1, route: 106.0, qty: 30.0, duration: 1.0, dura_unit: 195.0, instructions: take one(1) tablet once (x1) daily (continue & refill until the doctor advices otherwise) hyoscine bromide 20mg/1ml injection, dosage: 40mg, route: 107.0, qty: 2.0, duration: 1.0, dura_unit: 197.0, instructions: administer iv 40mg stat\n",
      "cetrizine 5mg/5ml syrup 30ml, dosage: 1, route: 106.0, qty: 1.0, duration: 1.0, dura_unit: 194.0, instructions: take 7.5mls at night paracetamol tabs 500 mg, dosage: 500, route: 106.0, qty: 1.0, duration: 1.0, dura_unit: 193.0, instructions: stat terbutaline+ambroxol+guaifensine syrup, dosage: 1, route: 106.0, qty: 1.0, duration: 5.0, dura_unit: 193.0, instructions: take 7.5mls thrice daily ibuprofen+paracetamol (125+100)mg/5ml suspension 100ml, dosage: 1, route: 106.0, qty: 1.0, duration: 5.0, dura_unit: 193.0, instructions: take 7.5mls thrice daily amoxycillin + clavulanic acid (600+42.9)mg/5ml suspension, dosage: 1, route: 106.0, qty: 1.0, duration: 1.0, dura_unit: 194.0, instructions: take 5mls twice daily\n",
      "\n",
      "### Classified:\n",
      "{'recipere': ['paracetamol injection 10ml, dosage: 1, route: 107.0, qty: 1.0, duration: 1.0, dura_unit: 197.0, instructions: administer iv 1g stat nifedipine sr 20mg tablets, dosage: 40mg, route: 106.0, qty: 2.0, duration: 1.0, dura_unit: 197.0, instructions: take at once dextrose+sodium chloride (5+0.9)% solution 500ml, dosage: 1l, route: 107.0, qty: 2.0, duration: 1.0, dura_unit: 197.0, instructions: administer iv 1l stat chlorzoxazone 500mg tablets, dosage: 2, route: 106.0, qty: 30.0, duration: 5.0, dura_unit: 193.0, instructions: take two(2) tablets three (3)times daily atenolol 50mg tablets, dosage: 1, route: 106.0, qty: 30.0, duration: 1.0, dura_unit: 195.0, instructions: take one(1) tablet once (x1) daily (continue & refill until the doctor advises otherwise) cefixime 200mg tablets, dosage: 1, route: 106.0, qty: 10.0, duration: 5.0, dura_unit: 193.0, instructions: take one(1) tablet two(2) times daily for 5 days (start tomorrow morning) losartan+amlodipine (50+5)mg tablets, dosage: 1, route: 106.0, qty: 30.0, duration: 1.0, dura_unit: 195.0, instructions: take one(1) tablet once (x1) daily (continue & refill until the doctor advises otherwise) hyoscine bromide 20mg/1ml injection, dosage: 40mg, route: 107.0, qty: 2.0, duration: 1.0, dura_unit: 197.0, instructions: administer iv 40mg stat', 'cetrizine 5mg/5ml syrup 30ml, dosage: 1, route: 106.0, qty: 1.0, duration: 1.0, dura_unit: 194.0, instructions: take 7.5mls at night paracetamol tabs 500 mg, dosage: 500, route: 106.0, qty: 1.0, duration: 1.0, dura_unit: 193.0, instructions: stat terbutaline+ambroxol+guaifensine syrup, dosage: 1, route: 106.0, qty: 1.0, duration: 5.0, dura_unit: 193.0, instructions: take 7.5mls thrice daily ibuprofen+paracetamol (125+100)mg/5ml suspension 100ml, dosage: 1, route: 106.0, qty: 1.0, duration: 5.0, dura_unit: 193.0, instructions: take 7.5mls thrice daily amoxycillin + clavulanic acid (600+42.9)mg/5ml suspension, dosage: 1, route: 106.0, qty: 1.0, duration: 1.0, dura_unit: 194.0, instructions: take 5mls twice daily']}\n",
      "{'complaints': ['cough, nasal congestion, running nose, sore throat, headache, fever, chills, joint pains, fatigue, loss of appetite, no vomiting, no diarrhea, no urinary symptoms, no travel to malaria endemic region, no hx of chronic illness, no hx of travel to a malaria endemic region in the last 1 year'], 'history_of_previous_illness': ['paracetamol injection 10ml, dosage: 1, route: 107.0, qty: 1.0, duration: 1.0, dura_unit: 197.0, instructions: administer iv 1g stat nifedipine sr 20mg tablets, dosage: 40mg, route: 106.0, qty: 2.0, duration: 1.0, dura_unit: 197.0, instructions: take at once dextrose+sodium chloride (5+0.9)% solution 500ml, dosage: 1l, route: 107.0, qty: 2.0, duration: 1.0, dura_unit: 197.0, instructions: administer iv 1l stat chlorzoxazone 500mg tablets, dosage: 2, route: 106.0, qty: 30.0, duration: 5.0, dura_unit: 193.0, instructions: take two(2) tablets three (3)times daily atenolol 50mg tablets, dosage: 1, route: 106.0, qty: 30.0, duration: 1.0, dura_unit: 195.0, instructions: take one(1) tablet once (x1) daily (continue & refill until the doctor advises otherwise) cefixime 200mg tablets, dosage: 1, route: 106.0, qty: 10.0, duration: 5.0, dura_unit: 193.0, instructions: take one(1) tablet two(2) times daily for 5 days (start tomorrow morning) losartan+amlodipine (50+5)mg tablets, dosage: 1, route: 106.0, qty: 30.0, duration: 1.0, dura_unit: 195.0, instructions: take one(1) tablet once (x1) daily (continue & refill until the doctor advises otherwise) hyoscine bromide 20mg/1ml injection, dosage: 40mg, route: 107.0, qty: 2.0, duration: 1.0, dura_unit: 197.0, instructions: administer iv 40mg stat', 'cetrizine 5mg/5ml syrup 30ml, dosage: 1, route: 106.0, qty: 1.0, duration: 1.0, dura_unit: 194.0, instructions: take 7.5mls at night paracetamol tabs 500 mg, dosage: 500, route: 106.0, qty: 1.0, duration: 1.0, dura_unit: 193.0, instructions: stat terbutaline+ambroxol+guaifensine syrup, dosage: 1, route: 106.0, qty: 1.0, duration: 5.0, dura_unit: 193.0, instructions: take 7.5mls thrice daily ibuprofen+paracetamol (125+100)mg/5ml suspension 100ml, dosage: 1, route: 106.0, qty: 1.0, duration: 5.0, dura_unit: 193.0, instructions: take 7.5mls thrice daily amoxycillin + clavulanic acid (600+42.9)mg/5ml suspension, dosage: 1, route: 106.0, qty: 1.0, duration: 1.0, dura_unit: 194.0, instructions: take 5mls twice daily']}\n",
      "{'plan': ['cough, nasal congestion, running nose, sore throat, headache, fever, chills, joint pains,\n",
      "CPU times: user 4min 48s, sys: 156 ms, total: 4min 48s\n",
      "Wall time: 4min 50s\n"
     ]
    }
   ],
   "source": [
    "%%time\n",
    "model_input = eval_tokenizer(eval_prompt, return_tensors=\"pt\").to(\"cuda\")\n",
    "\n",
    "ft_model.eval()\n",
    "with torch.no_grad():\n",
    "    print(eval_tokenizer.decode(ft_model.generate(**model_input, max_new_tokens=2048)[0], skip_special_tokens=True))"
   ]
  },
  {
   "cell_type": "code",
   "execution_count": null,
   "metadata": {
    "id": "4CpINfgf9NJ_"
   },
   "outputs": [],
   "source": [
    "%%time\n",
    "model_input = eval_tokenizer(eval_prompt, return_tensors=\"pt\").to(\"cuda\")\n",
    "\n",
    "ft_model.eval()\n",
    "with torch.no_grad():\n",
    "    print(eval_tokenizer.decode(ft_model.generate(**model_input, max_new_tokens=1024)[0], skip_special_tokens=True))"
   ]
  },
  {
   "cell_type": "code",
   "execution_count": null,
   "metadata": {
    "id": "d7KjRsUN9Pb9"
   },
   "outputs": [],
   "source": [
    "%%time\n",
    "model_input = eval_tokenizer(eval_prompt, return_tensors=\"pt\").to(\"cuda\")\n",
    "\n",
    "ft_model.eval()\n",
    "with torch.no_grad():\n",
    "    print(eval_tokenizer.decode(ft_model.generate(**model_input, max_new_tokens=512)[0], skip_special_tokens=True))"
   ]
  },
  {
   "cell_type": "code",
   "execution_count": null,
   "metadata": {
    "id": "cgDJIY0X9RqW"
   },
   "outputs": [],
   "source": []
  },
  {
   "cell_type": "code",
   "execution_count": null,
   "metadata": {
    "id": "Xs-N192W9Uag"
   },
   "outputs": [],
   "source": []
  },
  {
   "cell_type": "code",
   "execution_count": null,
   "metadata": {
    "id": "BWs3JXpv9Ufk"
   },
   "outputs": [],
   "source": []
  },
  {
   "cell_type": "code",
   "execution_count": null,
   "metadata": {
    "id": "e92HQNmO9UiT"
   },
   "outputs": [],
   "source": []
  },
  {
   "cell_type": "code",
   "execution_count": null,
   "metadata": {
    "id": "vckV4Dor9UmY"
   },
   "outputs": [],
   "source": [
    "import os\n",
    "os.environ[\"WANDB_PROJECT\"]=\"openhathi_instruct_finetuning\"\n",
    "\n",
    "from enum import Enum\n",
    "from functools import partial\n",
    "import pandas as pd\n",
    "import torch\n",
    "\n",
    "from transformers import AutoModelForCausalLM, LlamaTokenizer, TrainingArguments, set_seed\n",
    "from datasets import load_dataset\n",
    "from trl import SFTTrainer\n",
    "from peft import get_peft_model, LoraConfig, TaskType\n",
    "\n",
    "seed = 42\n",
    "set_seed(seed)"
   ]
  },
  {
   "cell_type": "code",
   "execution_count": null,
   "metadata": {
    "id": "Av1yUHLA9VQA"
   },
   "outputs": [],
   "source": [
    "dataset_name = \"smangrul/hinglish_self_instruct_v0\"\n",
    "dataset = load_dataset(dataset_name)\n",
    "dataset"
   ]
  },
  {
   "cell_type": "code",
   "execution_count": null,
   "metadata": {
    "id": "wsZbon3F9XEC"
   },
   "outputs": [],
   "source": [
    "dataset[\"train\"][0]"
   ]
  },
  {
   "cell_type": "code",
   "execution_count": null,
   "metadata": {
    "id": "fCK4L-ar9Yvn"
   },
   "outputs": [],
   "source": [
    "model_name = \"sarvamai/OpenHathi-7B-Hi-v0.1-Base\"\n",
    "dataset_name = \"smangrul/hinglish_self_instruct_v0\"\n",
    "tokenizer = LlamaTokenizer.from_pretrained(model_name)\n",
    "template = \"\"\"{% for message in messages %}\\n{{'<|im_start|>' + message['role'] + '\\n' + message['content'] + '<|im_end|>' + '\\n'}}{% if loop.last and add_generation_prompt %}{{'<|im_start|>assistant\\n' }}{% endif %}{% endfor %}\"\"\"\n",
    "tokenizer.chat_template = template\n",
    "\n",
    "def preprocess(samples):\n",
    "    batch = []\n",
    "    for conversation in samples[\"messages\"]:\n",
    "        batch.append(tokenizer.apply_chat_template(conversation, tokenize=False))\n",
    "    return {\"content\": batch}\n",
    "\n",
    "dataset = load_dataset(dataset_name)\n",
    "dataset = dataset.map(\n",
    "    preprocess,\n",
    "    batched=True,\n",
    "    remove_columns=dataset[\"train\"].column_names\n",
    ")\n",
    "dataset = dataset[\"train\"].train_test_split(0.1)\n",
    "print(dataset)\n",
    "print(dataset[\"train\"][0])"
   ]
  }
 ],
 "metadata": {
  "colab": {
   "provenance": []
  },
  "environment": {
   "kernel": "python39",
   "name": "tf2-gpu.2-11.m111",
   "type": "gcloud",
   "uri": "gcr.io/deeplearning-platform-release/tf2-gpu.2-11:m111"
  },
  "kernelspec": {
   "display_name": "python39",
   "language": "python",
   "name": "python39"
  },
  "language_info": {
   "codemirror_mode": {
    "name": "ipython",
    "version": 3
   },
   "file_extension": ".py",
   "mimetype": "text/x-python",
   "name": "python",
   "nbconvert_exporter": "python",
   "pygments_lexer": "ipython3",
   "version": "3.10.12"
  }
 },
 "nbformat": 4,
 "nbformat_minor": 4
}
